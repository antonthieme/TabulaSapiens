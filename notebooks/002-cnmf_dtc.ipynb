{
 "cells": [
  {
   "cell_type": "code",
   "execution_count": 1,
   "metadata": {},
   "outputs": [
    {
     "name": "stderr",
     "output_type": "stream",
     "text": [
      "/home/anton.thieme/miniconda3/envs/sc_env_cnmf/lib/python3.12/site-packages/anndata/utils.py:429: FutureWarning: Importing read_csv from `anndata` is deprecated. Import anndata.io.read_csv instead.\n",
      "  warnings.warn(msg, FutureWarning)\n"
     ]
    }
   ],
   "source": [
    "import numpy as np\n",
    "import pandas as pd\n",
    "import matplotlib.pyplot as plt\n",
    "import csv\n",
    "import seaborn as sns\n",
    "import anndata\n",
    "import string\n",
    "import gc\n",
    "from anndata import read_h5ad\n",
    "from anndata import read_csv\n",
    "from pandas import DataFrame\n",
    "import h5py\n",
    "import os\n",
    "from sklearn.metrics.pairwise import cosine_similarity\n",
    "from sklearn.cluster import KMeans\n",
    "from sklearn.decomposition import PCA\n",
    "import networkx as nx\n",
    "import plotly.graph_objects as go\n",
    "import scanpy as sc\n",
    "from cnmf import cNMF\n",
    "import pickle"
   ]
  },
  {
   "cell_type": "markdown",
   "metadata": {},
   "source": [
    "## PREPARE DATA"
   ]
  },
  {
   "cell_type": "code",
   "execution_count": 2,
   "metadata": {},
   "outputs": [
    {
     "data": {
      "text/plain": [
       "AnnData object with n_obs × n_vars = 1093048 × 1637\n",
       "    obs: 'donor', 'tissue', 'anatomical_position', 'method', 'cdna_plate', 'library_plate', 'notes', 'cdna_well', 'old_index', 'assay', 'sample_id', 'replicate', '10X_run', '10X_barcode', 'ambient_removal', 'donor_method', 'donor_assay', 'donor_tissue', 'donor_tissue_assay', 'cell_ontology_class', 'cell_ontology_id', 'compartment', 'broad_cell_class', 'free_annotation', 'manually_annotated', 'published_2022', 'n_genes_by_counts', 'total_counts', 'total_counts_mt', 'pct_counts_mt', 'total_counts_ercc', 'pct_counts_ercc', '_scvi_batch', '_scvi_labels', 'scvi_leiden_donorassay_full', 'age', 'sex', 'ethnicity', 'sample_number'\n",
       "    var: 'ensembl_id', 'gene_symbol', 'genome', 'mt', 'ercc', 'n_cells_by_counts', 'mean_counts', 'pct_dropout_by_counts', 'total_counts', 'mean', 'std'\n",
       "    uns: '_scvi_manager_uuid', '_scvi_uuid', '_training_mode', 'age_colors', 'assay_colors', 'compartment_colors', 'donor_colors', 'leiden', 'log1p', 'method_colors', 'neighbors', 'pca', 'sex_colors', 'tissue_colors', 'umap'\n",
       "    obsm: 'X_pca', 'X_scvi', 'X_umap', 'X_umap_scvi_full_donorassay', 'X_uncorrected_alltissues_umap', 'X_uncorrected_umap'\n",
       "    varm: 'PCs'\n",
       "    layers: 'decontXcounts', 'log_normalized', 'raw_counts', 'scale_data'\n",
       "    obsp: 'connectivities', 'distances'"
      ]
     },
     "execution_count": 2,
     "metadata": {},
     "output_type": "execute_result"
    }
   ],
   "source": [
    "adata_tf = read_h5ad(os.path.join('..', 'data', 'adata_tf.h5ad'))\n",
    "adata_tf"
   ]
  },
  {
   "cell_type": "code",
   "execution_count": null,
   "metadata": {},
   "outputs": [],
   "source": [
    "for donor in adata_tf.obs['donor'].unique():\n",
    "    print(donor)\n",
    "    adata_tf_donor = adata_tf[adata_tf.obs['donor'] == donor]\n",
    "    for tissue in adata_tf_donor.obs['tissue'].unique():\n",
    "        print(tissue)\n",
    "        adata_tf_donor_tissue = adata_tf_donor[adata_tf_donor.obs['tissue'] == tissue]\n",
    "        for celltype in adata_tf_donor_tissue.obs['broad_cell_class'].unique():\n",
    "            print(celltype)\n",
    "            adata_tf_donor_tissue_celltype = adata_tf_donor_tissue[adata_tf_donor_tissue.obs['broad_cell_class'] == celltype]\n",
    "            adata_tf_donor_tissue_celltype.write_h5ad(os.path.join('..', 'data', 'donor_tissue_celltype_split', 'adata_tf_' + donor + '_' + tissue + '_' + celltype + '.h5ad'))\n",
    "            del adata_tf_donor_tissue_celltype\n",
    "            gc.collect()"
   ]
  },
  {
   "cell_type": "code",
   "execution_count": null,
   "metadata": {},
   "outputs": [],
   "source": [
    "for celltype in adata_tf.obs['broad_cell_class'].unique():\n",
    "    try:\n",
    "        os.makedirs(os.path.join('..', 'data', 'donor_tissue_celltype_split', celltype))    \n",
    "        for filename in os.listdir('../data/donor_tissue_celltype_split'):\n",
    "            if filename.endswith('.h5ad') and celltype in filename:\n",
    "                os.rename(os.path.join('../data/donor_tissue_celltype_split', filename), os.path.join('../data/donor_tissue_celltype_split', celltype, filename))\n",
    "    except FileExistsError as e:\n",
    "        print(f'error caught: {e}')\n",
    "\n"
   ]
  },
  {
   "cell_type": "code",
   "execution_count": 3,
   "metadata": {},
   "outputs": [],
   "source": [
    "sc.pp.filter_cells(adata_tf, min_genes=3) # filter cells with fewer than 3 genes\n",
    "#sc.pp.filter_cells(adata_tf, min_counts=200)  # This is a weaker threshold than above. It is just to population the n_counts column in adata\n",
    "sc.pp.filter_genes(adata_tf, min_cells=3) # filter genes detected in fewer than 3 cells"
   ]
  },
  {
   "cell_type": "code",
   "execution_count": 4,
   "metadata": {},
   "outputs": [],
   "source": [
    "sc.write(os.path.join('..', 'data', 'adata_tf_cnmf.h5ad'), adata_tf)"
   ]
  },
  {
   "cell_type": "markdown",
   "metadata": {},
   "source": [
    "## RUN CNMF\n",
    "\n",
    "follow tutorial from here: https://github.com/dylkot/cNMF/blob/master/Tutorials/analyze_pbmc_example_data.ipynb\n",
    "\n",
    "run it using the run_cnmf_dtc.py script and the run_cnmf_dtc.sh shell script."
   ]
  },
  {
   "cell_type": "markdown",
   "metadata": {},
   "source": [
    "## Analyze Results"
   ]
  },
  {
   "cell_type": "markdown",
   "metadata": {},
   "source": [
    "### Fibroblasts"
   ]
  },
  {
   "cell_type": "code",
   "execution_count": 6,
   "metadata": {},
   "outputs": [],
   "source": [
    "selected_k = 11\n",
    "density_threshold = 2.00"
   ]
  },
  {
   "cell_type": "code",
   "execution_count": 9,
   "metadata": {},
   "outputs": [
    {
     "ename": "FileNotFoundError",
     "evalue": "[Errno 2] No such file or directory: '../../results/cnmf/tf_cNMF_dtc/fibroblast/tf_TSP1_Bladder_fibroblast/cnmf_tmp/tf_TSP1_Bladder_fibroblast.spectra.k_11.merged.df.npz'",
     "output_type": "error",
     "traceback": [
      "\u001b[0;31m---------------------------------------------------------------------------\u001b[0m",
      "\u001b[0;31mFileNotFoundError\u001b[0m                         Traceback (most recent call last)",
      "Cell \u001b[0;32mIn[9], line 5\u001b[0m\n\u001b[1;32m      2\u001b[0m \u001b[38;5;28;01mwith\u001b[39;00m \u001b[38;5;28mopen\u001b[39m(os\u001b[38;5;241m.\u001b[39mpath\u001b[38;5;241m.\u001b[39mjoin(\u001b[38;5;124m'\u001b[39m\u001b[38;5;124m..\u001b[39m\u001b[38;5;124m'\u001b[39m, \u001b[38;5;124m'\u001b[39m\u001b[38;5;124mresults\u001b[39m\u001b[38;5;124m'\u001b[39m, \u001b[38;5;124m'\u001b[39m\u001b[38;5;124mcnmf\u001b[39m\u001b[38;5;124m'\u001b[39m, \u001b[38;5;124m'\u001b[39m\u001b[38;5;124mtf_cNMF_dtc\u001b[39m\u001b[38;5;124m'\u001b[39m, \u001b[38;5;124m'\u001b[39m\u001b[38;5;124mfibroblast\u001b[39m\u001b[38;5;124m'\u001b[39m, dtc, \u001b[38;5;124m'\u001b[39m\u001b[38;5;124mcnmf_obj_after_combine.pkl\u001b[39m\u001b[38;5;124m'\u001b[39m), \u001b[38;5;124m'\u001b[39m\u001b[38;5;124mrb\u001b[39m\u001b[38;5;124m'\u001b[39m) \u001b[38;5;28;01mas\u001b[39;00m f:\n\u001b[1;32m      3\u001b[0m     cnmf_obj \u001b[38;5;241m=\u001b[39m pickle\u001b[38;5;241m.\u001b[39mload(f)\n\u001b[0;32m----> 5\u001b[0m \u001b[43mcnmf_obj\u001b[49m\u001b[38;5;241;43m.\u001b[39;49m\u001b[43mconsensus\u001b[49m\u001b[43m(\u001b[49m\u001b[43mk\u001b[49m\u001b[38;5;241;43m=\u001b[39;49m\u001b[43mselected_k\u001b[49m\u001b[43m,\u001b[49m\u001b[43m \u001b[49m\u001b[43mdensity_threshold\u001b[49m\u001b[38;5;241;43m=\u001b[39;49m\u001b[43mdensity_threshold\u001b[49m\u001b[43m,\u001b[49m\u001b[43m \u001b[49m\u001b[43mshow_clustering\u001b[49m\u001b[38;5;241;43m=\u001b[39;49m\u001b[38;5;28;43;01mTrue\u001b[39;49;00m\u001b[43m,\u001b[49m\u001b[43m \u001b[49m\u001b[43mclose_clustergram_fig\u001b[49m\u001b[38;5;241;43m=\u001b[39;49m\u001b[38;5;28;43;01mFalse\u001b[39;49;00m\u001b[43m)\u001b[49m\n",
      "File \u001b[0;32m~/miniconda3/envs/sc_env_cnmf/lib/python3.12/site-packages/cnmf/cnmf.py:805\u001b[0m, in \u001b[0;36mcNMF.consensus\u001b[0;34m(self, k, density_threshold, local_neighborhood_size, show_clustering, build_ref, skip_density_and_return_after_stats, close_clustergram_fig, refit_usage, normalize_tpm_spectra, norm_counts)\u001b[0m\n\u001b[1;32m    757\u001b[0m \u001b[38;5;28;01mdef\u001b[39;00m\u001b[38;5;250m \u001b[39m\u001b[38;5;21mconsensus\u001b[39m(\u001b[38;5;28mself\u001b[39m, k, density_threshold\u001b[38;5;241m=\u001b[39m\u001b[38;5;241m0.5\u001b[39m, local_neighborhood_size\u001b[38;5;241m=\u001b[39m\u001b[38;5;241m0.30\u001b[39m, show_clustering\u001b[38;5;241m=\u001b[39m\u001b[38;5;28;01mTrue\u001b[39;00m,\n\u001b[1;32m    758\u001b[0m               build_ref\u001b[38;5;241m=\u001b[39m\u001b[38;5;28;01mTrue\u001b[39;00m, skip_density_and_return_after_stats\u001b[38;5;241m=\u001b[39m\u001b[38;5;28;01mFalse\u001b[39;00m, close_clustergram_fig\u001b[38;5;241m=\u001b[39m\u001b[38;5;28;01mFalse\u001b[39;00m,\n\u001b[1;32m    759\u001b[0m               refit_usage\u001b[38;5;241m=\u001b[39m\u001b[38;5;28;01mTrue\u001b[39;00m, normalize_tpm_spectra\u001b[38;5;241m=\u001b[39m\u001b[38;5;28;01mFalse\u001b[39;00m, norm_counts\u001b[38;5;241m=\u001b[39m\u001b[38;5;28;01mNone\u001b[39;00m):\n\u001b[1;32m    760\u001b[0m \u001b[38;5;250m    \u001b[39m\u001b[38;5;124;03m\"\"\"\u001b[39;00m\n\u001b[1;32m    761\u001b[0m \u001b[38;5;124;03m    Obtain consensus estimates of spectra and usages from a cNMF run and output a clustergram of\u001b[39;00m\n\u001b[1;32m    762\u001b[0m \u001b[38;5;124;03m    the consensus matrix. Assumes prepare, factorize, and combine steps have already been run.\u001b[39;00m\n\u001b[0;32m   (...)\u001b[0m\n\u001b[1;32m    801\u001b[0m \u001b[38;5;124;03m        most users\u001b[39;00m\n\u001b[1;32m    802\u001b[0m \u001b[38;5;124;03m    \"\"\"\u001b[39;00m\n\u001b[0;32m--> 805\u001b[0m     merged_spectra \u001b[38;5;241m=\u001b[39m \u001b[43mload_df_from_npz\u001b[49m\u001b[43m(\u001b[49m\u001b[38;5;28;43mself\u001b[39;49m\u001b[38;5;241;43m.\u001b[39;49m\u001b[43mpaths\u001b[49m\u001b[43m[\u001b[49m\u001b[38;5;124;43m'\u001b[39;49m\u001b[38;5;124;43mmerged_spectra\u001b[39;49m\u001b[38;5;124;43m'\u001b[39;49m\u001b[43m]\u001b[49m\u001b[38;5;241;43m%\u001b[39;49m\u001b[43mk\u001b[49m\u001b[43m)\u001b[49m\n\u001b[1;32m    806\u001b[0m     \u001b[38;5;28;01mif\u001b[39;00m norm_counts \u001b[38;5;129;01mis\u001b[39;00m \u001b[38;5;28;01mNone\u001b[39;00m:\n\u001b[1;32m    807\u001b[0m         norm_counts \u001b[38;5;241m=\u001b[39m sc\u001b[38;5;241m.\u001b[39mread(\u001b[38;5;28mself\u001b[39m\u001b[38;5;241m.\u001b[39mpaths[\u001b[38;5;124m'\u001b[39m\u001b[38;5;124mnormalized_counts\u001b[39m\u001b[38;5;124m'\u001b[39m])\n",
      "File \u001b[0;32m~/miniconda3/envs/sc_env_cnmf/lib/python3.12/site-packages/cnmf/cnmf.py:37\u001b[0m, in \u001b[0;36mload_df_from_npz\u001b[0;34m(filename)\u001b[0m\n\u001b[1;32m     36\u001b[0m \u001b[38;5;28;01mdef\u001b[39;00m\u001b[38;5;250m \u001b[39m\u001b[38;5;21mload_df_from_npz\u001b[39m(filename):\n\u001b[0;32m---> 37\u001b[0m     \u001b[38;5;28;01mwith\u001b[39;00m \u001b[43mnp\u001b[49m\u001b[38;5;241;43m.\u001b[39;49m\u001b[43mload\u001b[49m\u001b[43m(\u001b[49m\u001b[43mfilename\u001b[49m\u001b[43m,\u001b[49m\u001b[43m \u001b[49m\u001b[43mallow_pickle\u001b[49m\u001b[38;5;241;43m=\u001b[39;49m\u001b[38;5;28;43;01mTrue\u001b[39;49;00m\u001b[43m)\u001b[49m \u001b[38;5;28;01mas\u001b[39;00m f:\n\u001b[1;32m     38\u001b[0m         obj \u001b[38;5;241m=\u001b[39m pd\u001b[38;5;241m.\u001b[39mDataFrame(\u001b[38;5;241m*\u001b[39m\u001b[38;5;241m*\u001b[39mf)\n\u001b[1;32m     39\u001b[0m     \u001b[38;5;28;01mreturn\u001b[39;00m obj\n",
      "File \u001b[0;32m~/miniconda3/envs/sc_env_cnmf/lib/python3.12/site-packages/numpy/lib/npyio.py:427\u001b[0m, in \u001b[0;36mload\u001b[0;34m(file, mmap_mode, allow_pickle, fix_imports, encoding, max_header_size)\u001b[0m\n\u001b[1;32m    425\u001b[0m     own_fid \u001b[38;5;241m=\u001b[39m \u001b[38;5;28;01mFalse\u001b[39;00m\n\u001b[1;32m    426\u001b[0m \u001b[38;5;28;01melse\u001b[39;00m:\n\u001b[0;32m--> 427\u001b[0m     fid \u001b[38;5;241m=\u001b[39m stack\u001b[38;5;241m.\u001b[39menter_context(\u001b[38;5;28;43mopen\u001b[39;49m\u001b[43m(\u001b[49m\u001b[43mos_fspath\u001b[49m\u001b[43m(\u001b[49m\u001b[43mfile\u001b[49m\u001b[43m)\u001b[49m\u001b[43m,\u001b[49m\u001b[43m \u001b[49m\u001b[38;5;124;43m\"\u001b[39;49m\u001b[38;5;124;43mrb\u001b[39;49m\u001b[38;5;124;43m\"\u001b[39;49m\u001b[43m)\u001b[49m)\n\u001b[1;32m    428\u001b[0m     own_fid \u001b[38;5;241m=\u001b[39m \u001b[38;5;28;01mTrue\u001b[39;00m\n\u001b[1;32m    430\u001b[0m \u001b[38;5;66;03m# Code to distinguish from NumPy binary files and pickles.\u001b[39;00m\n",
      "\u001b[0;31mFileNotFoundError\u001b[0m: [Errno 2] No such file or directory: '../../results/cnmf/tf_cNMF_dtc/fibroblast/tf_TSP1_Bladder_fibroblast/cnmf_tmp/tf_TSP1_Bladder_fibroblast.spectra.k_11.merged.df.npz'"
     ]
    }
   ],
   "source": [
    "dtc = 'tf_TSP1_Bladder_fibroblast'\n",
    "with open(os.path.join('..', 'results', 'cnmf', 'tf_cNMF_dtc', 'fibroblast', dtc, 'cnmf_obj_after_combine.pkl'), 'rb') as f:\n",
    "    cnmf_obj = pickle.load(f)\n",
    "\n",
    "cnmf_obj.consensus(k=selected_k, density_threshold=density_threshold, show_clustering=True, close_clustergram_fig=False)"
   ]
  },
  {
   "cell_type": "code",
   "execution_count": null,
   "metadata": {},
   "outputs": [],
   "source": []
  }
 ],
 "metadata": {
  "kernelspec": {
   "display_name": "sc_env_cnmf",
   "language": "python",
   "name": "python3"
  },
  "language_info": {
   "codemirror_mode": {
    "name": "ipython",
    "version": 3
   },
   "file_extension": ".py",
   "mimetype": "text/x-python",
   "name": "python",
   "nbconvert_exporter": "python",
   "pygments_lexer": "ipython3",
   "version": "3.12.8"
  }
 },
 "nbformat": 4,
 "nbformat_minor": 2
}
