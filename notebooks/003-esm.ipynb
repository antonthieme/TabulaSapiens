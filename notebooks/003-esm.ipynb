{
 "cells": [
  {
   "cell_type": "code",
   "execution_count": 1,
   "metadata": {},
   "outputs": [],
   "source": [
    "import torch\n",
    "import numpy as np\n",
    "from transformers import AutoModelForSequenceClassification, AutoTokenizer, Trainer, TrainingArguments\n",
    "from datasets import Dataset\n",
    "import evaluate\n",
    "from Bio import motifs\n",
    "from Bio.Seq import Seq\n",
    "import random\n",
    "import requests\n",
    "import sys\n",
    "from pathlib import Path\n",
    "import pandas as pd\n",
    "import os\n",
    "import pickle\n",
    "import requests\n",
    "\n",
    "src_path = Path(\"../src\")\n",
    "sys.path.append(str(src_path))\n",
    "\n",
    "from ts_tf.motifs import fetch_all_motifs, save_to_csv, fetch_all_motif_metadata, save_metadata_to_csv\n",
    "import ts_tf.protein as prot\n",
    "import ts_tf.custom_esm as cesm"
   ]
  },
  {
   "cell_type": "markdown",
   "metadata": {},
   "source": [
    "## RETRIEVE DNA MOTIFS"
   ]
  },
  {
   "cell_type": "code",
   "execution_count": null,
   "metadata": {},
   "outputs": [],
   "source": [
    "# Retrieve all high-quality motifs for vertebrates\n",
    "tax_group = \"vertebrates\"\n",
    "\n",
    "try:\n",
    "    print(f\"Fetching high-quality motifs for {tax_group}...\")\n",
    "    all_motifs = fetch_all_motifs(tax_group=tax_group)\n",
    "    print(f\"Retrieved {len(all_motifs)} motifs.\")\n",
    "\n",
    "    # Save motifs to a CSV file\n",
    "    output_file = \"../results/high_quality_motifs_with_pfm_pwm.csv\"\n",
    "    save_to_csv(all_motifs, output_file)\n",
    "    print(f\"Saved motifs to {output_file}\")\n",
    "except ValueError as e:\n",
    "    print(e)"
   ]
  },
  {
   "cell_type": "markdown",
   "metadata": {},
   "source": [
    "### alternative: retrieve cached"
   ]
  },
  {
   "cell_type": "code",
   "execution_count": 4,
   "metadata": {},
   "outputs": [
    {
     "name": "stdout",
     "output_type": "stream",
     "text": [
      "motif_ids retrieved: 1912\n"
     ]
    }
   ],
   "source": [
    "output_file = \"../results/motif/high_quality_motifs_with_pfm_pwm.csv\"\n",
    "motif_df = pd.read_csv(output_file)\n",
    "motif_ids = list(motif_df[\"Motif ID\"].unique())\n",
    "print(f'motif_ids retrieved: {len(motif_ids)}')"
   ]
  },
  {
   "cell_type": "markdown",
   "metadata": {},
   "source": [
    "## RETRIEVE UNIPROT ID"
   ]
  },
  {
   "cell_type": "code",
   "execution_count": null,
   "metadata": {},
   "outputs": [],
   "source": [
    "# Fetch metadata for all motifs\n",
    "metadata_list = fetch_all_motif_metadata(motif_ids)\n",
    "\n",
    "# Save metadata to CSV\n",
    "save_metadata_to_csv(metadata_list, \"../results/motif_metadata_2.csv\")"
   ]
  },
  {
   "cell_type": "code",
   "execution_count": 13,
   "metadata": {},
   "outputs": [],
   "source": [
    "import pickle\n",
    "\n",
    "with open('outfile', 'wb') as fp:\n",
    "    pickle.dump(metadata_list, fp)"
   ]
  },
  {
   "cell_type": "code",
   "execution_count": 4,
   "metadata": {},
   "outputs": [],
   "source": [
    "with open ('outfile', 'rb') as fp:\n",
    "    metadata_list = pickle.load(fp)"
   ]
  },
  {
   "cell_type": "code",
   "execution_count": null,
   "metadata": {},
   "outputs": [],
   "source": [
    "save_metadata_to_csv(metadata_list, \"../results/motif/motif_metadata_2.csv\")"
   ]
  },
  {
   "cell_type": "code",
   "execution_count": null,
   "metadata": {},
   "outputs": [],
   "source": [
    "metadata_list[634]"
   ]
  },
  {
   "cell_type": "markdown",
   "metadata": {},
   "source": [
    "### alternative: retrieve cached"
   ]
  },
  {
   "cell_type": "code",
   "execution_count": 6,
   "metadata": {},
   "outputs": [
    {
     "data": {
      "text/html": [
       "<div>\n",
       "<style scoped>\n",
       "    .dataframe tbody tr th:only-of-type {\n",
       "        vertical-align: middle;\n",
       "    }\n",
       "\n",
       "    .dataframe tbody tr th {\n",
       "        vertical-align: top;\n",
       "    }\n",
       "\n",
       "    .dataframe thead th {\n",
       "        text-align: right;\n",
       "    }\n",
       "</style>\n",
       "<table border=\"1\" class=\"dataframe\">\n",
       "  <thead>\n",
       "    <tr style=\"text-align: right;\">\n",
       "      <th></th>\n",
       "      <th>Matrix ID</th>\n",
       "      <th>Gene Name</th>\n",
       "      <th>UniProt ID</th>\n",
       "      <th>Species</th>\n",
       "      <th>Taxonomy ID</th>\n",
       "    </tr>\n",
       "  </thead>\n",
       "  <tbody>\n",
       "    <tr>\n",
       "      <th>0</th>\n",
       "      <td>MA0634.1</td>\n",
       "      <td>ALX3</td>\n",
       "      <td>O95076</td>\n",
       "      <td>Homo sapiens</td>\n",
       "      <td>9606</td>\n",
       "    </tr>\n",
       "    <tr>\n",
       "      <th>1</th>\n",
       "      <td>MA0634.2</td>\n",
       "      <td>ALX3</td>\n",
       "      <td>O95076</td>\n",
       "      <td>Homo sapiens</td>\n",
       "      <td>9606</td>\n",
       "    </tr>\n",
       "    <tr>\n",
       "      <th>2</th>\n",
       "      <td>MA0007.2</td>\n",
       "      <td>AR</td>\n",
       "      <td>P10275</td>\n",
       "      <td>Homo sapiens</td>\n",
       "      <td>9606</td>\n",
       "    </tr>\n",
       "    <tr>\n",
       "      <th>3</th>\n",
       "      <td>MA1463.1</td>\n",
       "      <td>ARGFX</td>\n",
       "      <td>A6NJG6</td>\n",
       "      <td>Homo sapiens</td>\n",
       "      <td>9606</td>\n",
       "    </tr>\n",
       "    <tr>\n",
       "      <th>4</th>\n",
       "      <td>MA1463.2</td>\n",
       "      <td>ARGFX</td>\n",
       "      <td>A6NJG6</td>\n",
       "      <td>Homo sapiens</td>\n",
       "      <td>9606</td>\n",
       "    </tr>\n",
       "    <tr>\n",
       "      <th>...</th>\n",
       "      <td>...</td>\n",
       "      <td>...</td>\n",
       "      <td>...</td>\n",
       "      <td>...</td>\n",
       "      <td>...</td>\n",
       "    </tr>\n",
       "    <tr>\n",
       "      <th>1907</th>\n",
       "      <td>MA1630.1</td>\n",
       "      <td>Znf281</td>\n",
       "      <td>Q99LI5</td>\n",
       "      <td>Mus musculus</td>\n",
       "      <td>10090</td>\n",
       "    </tr>\n",
       "    <tr>\n",
       "      <th>1908</th>\n",
       "      <td>MA0116.1</td>\n",
       "      <td>Znf423</td>\n",
       "      <td>O08961</td>\n",
       "      <td>Rattus norvegicus</td>\n",
       "      <td>10116</td>\n",
       "    </tr>\n",
       "    <tr>\n",
       "      <th>1909</th>\n",
       "      <td>MA0621.1</td>\n",
       "      <td>mix-a</td>\n",
       "      <td>P21711</td>\n",
       "      <td>Xenopus laevis</td>\n",
       "      <td>8355</td>\n",
       "    </tr>\n",
       "    <tr>\n",
       "      <th>1910</th>\n",
       "      <td>MA0621.2</td>\n",
       "      <td>mix-a</td>\n",
       "      <td>P21711</td>\n",
       "      <td>Xenopus laevis</td>\n",
       "      <td>8355</td>\n",
       "    </tr>\n",
       "    <tr>\n",
       "      <th>1911</th>\n",
       "      <td>MA0088.1</td>\n",
       "      <td>znf143</td>\n",
       "      <td>Q91853</td>\n",
       "      <td>Xenopus laevis</td>\n",
       "      <td>8355</td>\n",
       "    </tr>\n",
       "  </tbody>\n",
       "</table>\n",
       "<p>1912 rows × 5 columns</p>\n",
       "</div>"
      ],
      "text/plain": [
       "     Matrix ID Gene Name UniProt ID            Species Taxonomy ID\n",
       "0     MA0634.1      ALX3     O95076       Homo sapiens        9606\n",
       "1     MA0634.2      ALX3     O95076       Homo sapiens        9606\n",
       "2     MA0007.2        AR     P10275       Homo sapiens        9606\n",
       "3     MA1463.1     ARGFX     A6NJG6       Homo sapiens        9606\n",
       "4     MA1463.2     ARGFX     A6NJG6       Homo sapiens        9606\n",
       "...        ...       ...        ...                ...         ...\n",
       "1907  MA1630.1    Znf281     Q99LI5       Mus musculus       10090\n",
       "1908  MA0116.1    Znf423     O08961  Rattus norvegicus       10116\n",
       "1909  MA0621.1     mix-a     P21711     Xenopus laevis        8355\n",
       "1910  MA0621.2     mix-a     P21711     Xenopus laevis        8355\n",
       "1911  MA0088.1    znf143     Q91853     Xenopus laevis        8355\n",
       "\n",
       "[1912 rows x 5 columns]"
      ]
     },
     "execution_count": 6,
     "metadata": {},
     "output_type": "execute_result"
    }
   ],
   "source": [
    "metadata_df = pd.read_csv(\"../results/motif/motif_metadata.csv\")\n",
    "metadata_df"
   ]
  },
  {
   "cell_type": "markdown",
   "metadata": {},
   "source": [
    "## RETRIEVE AA SEQUENCE"
   ]
  },
  {
   "cell_type": "code",
   "execution_count": 8,
   "metadata": {},
   "outputs": [
    {
     "name": "stdout",
     "output_type": "stream",
     "text": [
      "Error fetching sequence for UniProt ID nan: 400\n",
      "Error fetching sequence for UniProt ID nan: 400\n",
      "Error fetching sequence for UniProt ID nan: 400\n",
      "N retrieved successfully: 1909\n"
     ]
    }
   ],
   "source": [
    "metadata_df[\"AA Sequence\"] = None\n",
    "\n",
    "for i, row in metadata_df.iterrows():\n",
    "\n",
    "    uniprot_id = row[\"UniProt ID\"]\n",
    "    aa_seq = prot.fetch_uniprot_sequence(uniprot_id)\n",
    "    metadata_df.loc[i, \"AA Sequence\"] = aa_seq\n",
    "\n",
    "print(f\"N retrieved successfully: {len(metadata_df[~metadata_df[\"AA Sequence\"].isnull()])}\")\n",
    "metadata_df.to_csv(\"../results/motif/motif_metadata_with_uniprot.csv\", index=False)"
   ]
  },
  {
   "cell_type": "markdown",
   "metadata": {},
   "source": [
    "### alternative: retrieve cached"
   ]
  },
  {
   "cell_type": "code",
   "execution_count": 3,
   "metadata": {},
   "outputs": [
    {
     "data": {
      "text/html": [
       "<div>\n",
       "<style scoped>\n",
       "    .dataframe tbody tr th:only-of-type {\n",
       "        vertical-align: middle;\n",
       "    }\n",
       "\n",
       "    .dataframe tbody tr th {\n",
       "        vertical-align: top;\n",
       "    }\n",
       "\n",
       "    .dataframe thead th {\n",
       "        text-align: right;\n",
       "    }\n",
       "</style>\n",
       "<table border=\"1\" class=\"dataframe\">\n",
       "  <thead>\n",
       "    <tr style=\"text-align: right;\">\n",
       "      <th></th>\n",
       "      <th>Matrix ID</th>\n",
       "      <th>Gene Name</th>\n",
       "      <th>UniProt ID</th>\n",
       "      <th>Species</th>\n",
       "      <th>Taxonomy ID</th>\n",
       "      <th>AA Sequence</th>\n",
       "    </tr>\n",
       "  </thead>\n",
       "  <tbody>\n",
       "    <tr>\n",
       "      <th>0</th>\n",
       "      <td>MA0634.1</td>\n",
       "      <td>ALX3</td>\n",
       "      <td>O95076</td>\n",
       "      <td>Homo sapiens</td>\n",
       "      <td>9606</td>\n",
       "      <td>MDPEHCAPFRVGPAPGPYVASGDEPPGPQGTPAAAPHLHPAPPRGP...</td>\n",
       "    </tr>\n",
       "    <tr>\n",
       "      <th>1</th>\n",
       "      <td>MA0634.2</td>\n",
       "      <td>ALX3</td>\n",
       "      <td>O95076</td>\n",
       "      <td>Homo sapiens</td>\n",
       "      <td>9606</td>\n",
       "      <td>MDPEHCAPFRVGPAPGPYVASGDEPPGPQGTPAAAPHLHPAPPRGP...</td>\n",
       "    </tr>\n",
       "    <tr>\n",
       "      <th>2</th>\n",
       "      <td>MA0007.2</td>\n",
       "      <td>AR</td>\n",
       "      <td>P10275</td>\n",
       "      <td>Homo sapiens</td>\n",
       "      <td>9606</td>\n",
       "      <td>MEVQLGLGRVYPRPPSKTYRGAFQNLFQSVREVIQNPGPRHPEAAS...</td>\n",
       "    </tr>\n",
       "    <tr>\n",
       "      <th>3</th>\n",
       "      <td>MA1463.1</td>\n",
       "      <td>ARGFX</td>\n",
       "      <td>A6NJG6</td>\n",
       "      <td>Homo sapiens</td>\n",
       "      <td>9606</td>\n",
       "      <td>MRNRMAPENPQPDPFINRNYSNMKVIPPQDPASPSFTLLSKLECSG...</td>\n",
       "    </tr>\n",
       "    <tr>\n",
       "      <th>4</th>\n",
       "      <td>MA1463.2</td>\n",
       "      <td>ARGFX</td>\n",
       "      <td>A6NJG6</td>\n",
       "      <td>Homo sapiens</td>\n",
       "      <td>9606</td>\n",
       "      <td>MRNRMAPENPQPDPFINRNYSNMKVIPPQDPASPSFTLLSKLECSG...</td>\n",
       "    </tr>\n",
       "    <tr>\n",
       "      <th>...</th>\n",
       "      <td>...</td>\n",
       "      <td>...</td>\n",
       "      <td>...</td>\n",
       "      <td>...</td>\n",
       "      <td>...</td>\n",
       "      <td>...</td>\n",
       "    </tr>\n",
       "    <tr>\n",
       "      <th>1907</th>\n",
       "      <td>MA1630.1</td>\n",
       "      <td>Znf281</td>\n",
       "      <td>Q99LI5</td>\n",
       "      <td>Mus musculus</td>\n",
       "      <td>10090</td>\n",
       "      <td>MKIGSGFLSGGGGPSSSGGSGSGGSSGSASGGSGGGRRAEMEPTFP...</td>\n",
       "    </tr>\n",
       "    <tr>\n",
       "      <th>1908</th>\n",
       "      <td>MA0116.1</td>\n",
       "      <td>Znf423</td>\n",
       "      <td>O08961</td>\n",
       "      <td>Rattus norvegicus</td>\n",
       "      <td>10116</td>\n",
       "      <td>MSRRKQAKPRSVKVEEGEASDFSLAWDSSVAAAGGLEGESECDRKS...</td>\n",
       "    </tr>\n",
       "    <tr>\n",
       "      <th>1909</th>\n",
       "      <td>MA0621.1</td>\n",
       "      <td>mix-a</td>\n",
       "      <td>P21711</td>\n",
       "      <td>Xenopus laevis</td>\n",
       "      <td>8355</td>\n",
       "      <td>MDGFSQQLEDLYPSCFSPCPSPLGFSEPVIQPFAMNLAPAAQKDFQ...</td>\n",
       "    </tr>\n",
       "    <tr>\n",
       "      <th>1910</th>\n",
       "      <td>MA0621.2</td>\n",
       "      <td>mix-a</td>\n",
       "      <td>P21711</td>\n",
       "      <td>Xenopus laevis</td>\n",
       "      <td>8355</td>\n",
       "      <td>MDGFSQQLEDLYPSCFSPCPSPLGFSEPVIQPFAMNLAPAAQKDFQ...</td>\n",
       "    </tr>\n",
       "    <tr>\n",
       "      <th>1911</th>\n",
       "      <td>MA0088.1</td>\n",
       "      <td>znf143</td>\n",
       "      <td>Q91853</td>\n",
       "      <td>Xenopus laevis</td>\n",
       "      <td>8355</td>\n",
       "      <td>MLLAQINRDSQAMAEFPGGGGEAQHVTLCLTEAVADGESMDTMEGM...</td>\n",
       "    </tr>\n",
       "  </tbody>\n",
       "</table>\n",
       "<p>1912 rows × 6 columns</p>\n",
       "</div>"
      ],
      "text/plain": [
       "     Matrix ID Gene Name UniProt ID            Species Taxonomy ID  \\\n",
       "0     MA0634.1      ALX3     O95076       Homo sapiens        9606   \n",
       "1     MA0634.2      ALX3     O95076       Homo sapiens        9606   \n",
       "2     MA0007.2        AR     P10275       Homo sapiens        9606   \n",
       "3     MA1463.1     ARGFX     A6NJG6       Homo sapiens        9606   \n",
       "4     MA1463.2     ARGFX     A6NJG6       Homo sapiens        9606   \n",
       "...        ...       ...        ...                ...         ...   \n",
       "1907  MA1630.1    Znf281     Q99LI5       Mus musculus       10090   \n",
       "1908  MA0116.1    Znf423     O08961  Rattus norvegicus       10116   \n",
       "1909  MA0621.1     mix-a     P21711     Xenopus laevis        8355   \n",
       "1910  MA0621.2     mix-a     P21711     Xenopus laevis        8355   \n",
       "1911  MA0088.1    znf143     Q91853     Xenopus laevis        8355   \n",
       "\n",
       "                                            AA Sequence  \n",
       "0     MDPEHCAPFRVGPAPGPYVASGDEPPGPQGTPAAAPHLHPAPPRGP...  \n",
       "1     MDPEHCAPFRVGPAPGPYVASGDEPPGPQGTPAAAPHLHPAPPRGP...  \n",
       "2     MEVQLGLGRVYPRPPSKTYRGAFQNLFQSVREVIQNPGPRHPEAAS...  \n",
       "3     MRNRMAPENPQPDPFINRNYSNMKVIPPQDPASPSFTLLSKLECSG...  \n",
       "4     MRNRMAPENPQPDPFINRNYSNMKVIPPQDPASPSFTLLSKLECSG...  \n",
       "...                                                 ...  \n",
       "1907  MKIGSGFLSGGGGPSSSGGSGSGGSSGSASGGSGGGRRAEMEPTFP...  \n",
       "1908  MSRRKQAKPRSVKVEEGEASDFSLAWDSSVAAAGGLEGESECDRKS...  \n",
       "1909  MDGFSQQLEDLYPSCFSPCPSPLGFSEPVIQPFAMNLAPAAQKDFQ...  \n",
       "1910  MDGFSQQLEDLYPSCFSPCPSPLGFSEPVIQPFAMNLAPAAQKDFQ...  \n",
       "1911  MLLAQINRDSQAMAEFPGGGGEAQHVTLCLTEAVADGESMDTMEGM...  \n",
       "\n",
       "[1912 rows x 6 columns]"
      ]
     },
     "execution_count": 3,
     "metadata": {},
     "output_type": "execute_result"
    }
   ],
   "source": [
    "metadata_df = pd.read_csv(\"../results/motif/motif_metadata_with_uniprot.csv\")\n",
    "metadata_df"
   ]
  },
  {
   "cell_type": "markdown",
   "metadata": {},
   "source": [
    "## CLEAN UP"
   ]
  },
  {
   "cell_type": "code",
   "execution_count": 6,
   "metadata": {},
   "outputs": [
    {
     "name": "stdout",
     "output_type": "stream",
     "text": [
      "0\n",
      "0\n",
      "1907\n",
      "1907\n"
     ]
    },
    {
     "name": "stderr",
     "output_type": "stream",
     "text": [
      "/tmp/ipykernel_1661262/2088583545.py:15: DeprecationWarning: DataFrameGroupBy.apply operated on the grouping columns. This behavior is deprecated, and in a future version of pandas the grouping columns will be excluded from the operation. Either pass `include_groups=False` to exclude the groupings or explicitly select the grouping columns after groupby to silence this warning.\n",
      "  motif_sequence_df = motif_sequence_df.groupby(group_columns).apply(process_group).reset_index()\n"
     ]
    }
   ],
   "source": [
    "# Merge motif and sequence dataframes\n",
    "motif_sequence_df = pd.merge(motif_df, metadata_df, left_on=\"Motif ID\", right_on=\"Matrix ID\", how=\"inner\")\n",
    "\n",
    "# Identify columns to group by (all except Position and matrix columns)\n",
    "group_columns = list(motif_sequence_df.columns.difference(['Position', 'A (PFM)', 'C (PFM)', 'G (PFM)', 'T (PFM)', \n",
    "                                            'A (PWM)', 'C (PWM)', 'G (PWM)', 'T (PWM)']))\n",
    "\n",
    "# Group by relevant columns and process\n",
    "def process_group(group):\n",
    "    pwm = group[['A (PWM)', 'C (PWM)', 'G (PWM)', 'T (PWM)']].values.tolist()\n",
    "    pfm = group[['A (PFM)', 'C (PFM)', 'G (PFM)', 'T (PFM)']].values.tolist()\n",
    "    return pd.Series({'pwm': pwm, 'pfm': pfm})\n",
    "\n",
    "# Apply the transformation\n",
    "motif_sequence_df = motif_sequence_df.groupby(group_columns).apply(process_group).reset_index()\n",
    "print(len(motif_sequence_df[motif_sequence_df[\"pwm\"].isnull()]))\n",
    "print(len(motif_sequence_df[motif_sequence_df[\"AA Sequence\"].isnull()]))\n",
    "print(len(motif_sequence_df))\n",
    "motif_sequence_df = motif_sequence_df.dropna()\n",
    "print(len(motif_sequence_df))\n",
    "\n",
    "motif_sequence_df.to_csv(\"../results/motif/motif_sequence_data.csv\", index=False)"
   ]
  },
  {
   "cell_type": "markdown",
   "metadata": {},
   "source": [
    "## SPLIT DATA"
   ]
  },
  {
   "cell_type": "code",
   "execution_count": 7,
   "metadata": {},
   "outputs": [],
   "source": [
    "data = pd.read_csv(\"../results/motif/motif_sequence_data.csv\")\n",
    "train_data = data.sample(frac=0.8, random_state=42)\n",
    "test_data = data.drop(train_data.index)\n",
    "train_data.to_csv(\"../data/esm/train_data.csv\", index=False)\n",
    "test_data.to_csv(\"../data/esm/test_data.csv\", index=False)"
   ]
  },
  {
   "cell_type": "markdown",
   "metadata": {},
   "source": [
    "## FINE-TUNE \n",
    "\n",
    "Fine tune esm using the script esm_finetune.py"
   ]
  },
  {
   "cell_type": "code",
   "execution_count": null,
   "metadata": {},
   "outputs": [],
   "source": []
  }
 ],
 "metadata": {
  "kernelspec": {
   "display_name": "sc_env",
   "language": "python",
   "name": "python3"
  },
  "language_info": {
   "codemirror_mode": {
    "name": "ipython",
    "version": 3
   },
   "file_extension": ".py",
   "mimetype": "text/x-python",
   "name": "python",
   "nbconvert_exporter": "python",
   "pygments_lexer": "ipython3",
   "version": "3.12.2"
  }
 },
 "nbformat": 4,
 "nbformat_minor": 2
}
