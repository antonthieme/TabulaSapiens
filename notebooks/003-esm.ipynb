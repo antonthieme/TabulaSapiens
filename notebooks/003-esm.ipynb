{
 "cells": [
  {
   "cell_type": "code",
   "execution_count": 16,
   "metadata": {},
   "outputs": [
    {
     "ename": "ImportError",
     "evalue": "attempted relative import with no known parent package",
     "output_type": "error",
     "traceback": [
      "\u001b[0;31m---------------------------------------------------------------------------\u001b[0m",
      "\u001b[0;31mImportError\u001b[0m                               Traceback (most recent call last)",
      "Cell \u001b[0;32mIn[16], line 11\u001b[0m\n\u001b[1;32m      8\u001b[0m \u001b[38;5;28;01mimport\u001b[39;00m\u001b[38;5;250m \u001b[39m\u001b[38;5;21;01mrandom\u001b[39;00m\n\u001b[1;32m      9\u001b[0m \u001b[38;5;28;01mimport\u001b[39;00m\u001b[38;5;250m \u001b[39m\u001b[38;5;21;01mrequests\u001b[39;00m\n\u001b[0;32m---> 11\u001b[0m \u001b[38;5;28;01mfrom\u001b[39;00m\u001b[38;5;250m \u001b[39m\u001b[38;5;21;01m.\u001b[39;00m\u001b[38;5;21;01m.\u001b[39;00m\u001b[38;5;21;01msrc\u001b[39;00m\u001b[38;5;21;01m.\u001b[39;00m\u001b[38;5;21;01mmotifs\u001b[39;00m\u001b[38;5;250m \u001b[39m\u001b[38;5;28;01mimport\u001b[39;00m fetch_all_motifs, save_to_csv\n",
      "\u001b[0;31mImportError\u001b[0m: attempted relative import with no known parent package"
     ]
    }
   ],
   "source": [
    "import torch\n",
    "import numpy as np\n",
    "from transformers import AutoModelForSequenceClassification, AutoTokenizer, Trainer, TrainingArguments\n",
    "from datasets import Dataset\n",
    "import evaluate\n",
    "from Bio import motifs\n",
    "from Bio.Seq import Seq\n",
    "import random\n",
    "import requests\n",
    "\n",
    "from ..src.motifs import fetch_all_motifs, save_to_csv"
   ]
  },
  {
   "cell_type": "code",
   "execution_count": 13,
   "metadata": {},
   "outputs": [
    {
     "name": "stdout",
     "output_type": "stream",
     "text": [
      "Fetching high-quality motifs for vertebrates...\n",
      "Fetching motifs from: http://jaspar.genereg.net/api/v1/matrix/\n",
      "Fetching motifs from: https://jaspar.elixir.no/api/v1/matrix/?collection=CORE&page=2&quality=high&tax_group=vertebrates\n",
      "Fetching motifs from: https://jaspar.elixir.no/api/v1/matrix/?collection=CORE&page=3&quality=high&tax_group=vertebrates\n",
      "Fetching motifs from: https://jaspar.elixir.no/api/v1/matrix/?collection=CORE&page=4&quality=high&tax_group=vertebrates\n",
      "Fetching motifs from: https://jaspar.elixir.no/api/v1/matrix/?collection=CORE&page=5&quality=high&tax_group=vertebrates\n",
      "Fetching motifs from: https://jaspar.elixir.no/api/v1/matrix/?collection=CORE&page=6&quality=high&tax_group=vertebrates\n",
      "Fetching motifs from: https://jaspar.elixir.no/api/v1/matrix/?collection=CORE&page=7&quality=high&tax_group=vertebrates\n",
      "Fetching motifs from: https://jaspar.elixir.no/api/v1/matrix/?collection=CORE&page=8&quality=high&tax_group=vertebrates\n",
      "Fetching motifs from: https://jaspar.elixir.no/api/v1/matrix/?collection=CORE&page=9&quality=high&tax_group=vertebrates\n",
      "Fetching motifs from: https://jaspar.elixir.no/api/v1/matrix/?collection=CORE&page=10&quality=high&tax_group=vertebrates\n",
      "Fetching motifs from: https://jaspar.elixir.no/api/v1/matrix/?collection=CORE&page=11&quality=high&tax_group=vertebrates\n",
      "Fetching motifs from: https://jaspar.elixir.no/api/v1/matrix/?collection=CORE&page=12&quality=high&tax_group=vertebrates\n",
      "Fetching motifs from: https://jaspar.elixir.no/api/v1/matrix/?collection=CORE&page=13&quality=high&tax_group=vertebrates\n",
      "Fetching motifs from: https://jaspar.elixir.no/api/v1/matrix/?collection=CORE&page=14&quality=high&tax_group=vertebrates\n",
      "Fetching motifs from: https://jaspar.elixir.no/api/v1/matrix/?collection=CORE&page=15&quality=high&tax_group=vertebrates\n",
      "Fetching motifs from: https://jaspar.elixir.no/api/v1/matrix/?collection=CORE&page=16&quality=high&tax_group=vertebrates\n",
      "Fetching motifs from: https://jaspar.elixir.no/api/v1/matrix/?collection=CORE&page=17&quality=high&tax_group=vertebrates\n",
      "Fetching motifs from: https://jaspar.elixir.no/api/v1/matrix/?collection=CORE&page=18&quality=high&tax_group=vertebrates\n",
      "Fetching motifs from: https://jaspar.elixir.no/api/v1/matrix/?collection=CORE&page=19&quality=high&tax_group=vertebrates\n",
      "Fetching motifs from: https://jaspar.elixir.no/api/v1/matrix/?collection=CORE&page=20&quality=high&tax_group=vertebrates\n",
      "Fetching motifs from: https://jaspar.elixir.no/api/v1/matrix/?collection=CORE&page=21&quality=high&tax_group=vertebrates\n",
      "Fetching motifs from: https://jaspar.elixir.no/api/v1/matrix/?collection=CORE&page=22&quality=high&tax_group=vertebrates\n",
      "Fetching motifs from: https://jaspar.elixir.no/api/v1/matrix/?collection=CORE&page=23&quality=high&tax_group=vertebrates\n",
      "Fetching motifs from: https://jaspar.elixir.no/api/v1/matrix/?collection=CORE&page=24&quality=high&tax_group=vertebrates\n",
      "Fetching motifs from: https://jaspar.elixir.no/api/v1/matrix/?collection=CORE&page=25&quality=high&tax_group=vertebrates\n",
      "Fetching motifs from: https://jaspar.elixir.no/api/v1/matrix/?collection=CORE&page=26&quality=high&tax_group=vertebrates\n",
      "Fetching motifs from: https://jaspar.elixir.no/api/v1/matrix/?collection=CORE&page=27&quality=high&tax_group=vertebrates\n",
      "Fetching motifs from: https://jaspar.elixir.no/api/v1/matrix/?collection=CORE&page=28&quality=high&tax_group=vertebrates\n",
      "Fetching motifs from: https://jaspar.elixir.no/api/v1/matrix/?collection=CORE&page=29&quality=high&tax_group=vertebrates\n",
      "Fetching motifs from: https://jaspar.elixir.no/api/v1/matrix/?collection=CORE&page=30&quality=high&tax_group=vertebrates\n",
      "Fetching motifs from: https://jaspar.elixir.no/api/v1/matrix/?collection=CORE&page=31&quality=high&tax_group=vertebrates\n",
      "Fetching motifs from: https://jaspar.elixir.no/api/v1/matrix/?collection=CORE&page=32&quality=high&tax_group=vertebrates\n",
      "Fetching motifs from: https://jaspar.elixir.no/api/v1/matrix/?collection=CORE&page=33&quality=high&tax_group=vertebrates\n",
      "Fetching motifs from: https://jaspar.elixir.no/api/v1/matrix/?collection=CORE&page=34&quality=high&tax_group=vertebrates\n",
      "Fetching motifs from: https://jaspar.elixir.no/api/v1/matrix/?collection=CORE&page=35&quality=high&tax_group=vertebrates\n",
      "Fetching motifs from: https://jaspar.elixir.no/api/v1/matrix/?collection=CORE&page=36&quality=high&tax_group=vertebrates\n",
      "Fetching motifs from: https://jaspar.elixir.no/api/v1/matrix/?collection=CORE&page=37&quality=high&tax_group=vertebrates\n",
      "Fetching motifs from: https://jaspar.elixir.no/api/v1/matrix/?collection=CORE&page=38&quality=high&tax_group=vertebrates\n",
      "Fetching motifs from: https://jaspar.elixir.no/api/v1/matrix/?collection=CORE&page=39&quality=high&tax_group=vertebrates\n",
      "Fetching motifs from: https://jaspar.elixir.no/api/v1/matrix/?collection=CORE&page=40&quality=high&tax_group=vertebrates\n",
      "Fetching motifs from: https://jaspar.elixir.no/api/v1/matrix/?collection=CORE&page=41&quality=high&tax_group=vertebrates\n",
      "Fetching motifs from: https://jaspar.elixir.no/api/v1/matrix/?collection=CORE&page=42&quality=high&tax_group=vertebrates\n",
      "Fetching motifs from: https://jaspar.elixir.no/api/v1/matrix/?collection=CORE&page=43&quality=high&tax_group=vertebrates\n",
      "Fetching motifs from: https://jaspar.elixir.no/api/v1/matrix/?collection=CORE&page=44&quality=high&tax_group=vertebrates\n",
      "Fetching motifs from: https://jaspar.elixir.no/api/v1/matrix/?collection=CORE&page=45&quality=high&tax_group=vertebrates\n",
      "Fetching motifs from: https://jaspar.elixir.no/api/v1/matrix/?collection=CORE&page=46&quality=high&tax_group=vertebrates\n",
      "Fetching motifs from: https://jaspar.elixir.no/api/v1/matrix/?collection=CORE&page=47&quality=high&tax_group=vertebrates\n",
      "Fetching motifs from: https://jaspar.elixir.no/api/v1/matrix/?collection=CORE&page=48&quality=high&tax_group=vertebrates\n",
      "Fetching motifs from: https://jaspar.elixir.no/api/v1/matrix/?collection=CORE&page=49&quality=high&tax_group=vertebrates\n",
      "Fetching motifs from: https://jaspar.elixir.no/api/v1/matrix/?collection=CORE&page=50&quality=high&tax_group=vertebrates\n",
      "Fetching motifs from: https://jaspar.elixir.no/api/v1/matrix/?collection=CORE&page=51&quality=high&tax_group=vertebrates\n",
      "Fetching motifs from: https://jaspar.elixir.no/api/v1/matrix/?collection=CORE&page=52&quality=high&tax_group=vertebrates\n",
      "Fetching motifs from: https://jaspar.elixir.no/api/v1/matrix/?collection=CORE&page=53&quality=high&tax_group=vertebrates\n",
      "Fetching motifs from: https://jaspar.elixir.no/api/v1/matrix/?collection=CORE&page=54&quality=high&tax_group=vertebrates\n",
      "Fetching motifs from: https://jaspar.elixir.no/api/v1/matrix/?collection=CORE&page=55&quality=high&tax_group=vertebrates\n",
      "Fetching motifs from: https://jaspar.elixir.no/api/v1/matrix/?collection=CORE&page=56&quality=high&tax_group=vertebrates\n",
      "Fetching motifs from: https://jaspar.elixir.no/api/v1/matrix/?collection=CORE&page=57&quality=high&tax_group=vertebrates\n",
      "Fetching motifs from: https://jaspar.elixir.no/api/v1/matrix/?collection=CORE&page=58&quality=high&tax_group=vertebrates\n",
      "Fetching motifs from: https://jaspar.elixir.no/api/v1/matrix/?collection=CORE&page=59&quality=high&tax_group=vertebrates\n",
      "Fetching motifs from: https://jaspar.elixir.no/api/v1/matrix/?collection=CORE&page=60&quality=high&tax_group=vertebrates\n",
      "Fetching motifs from: https://jaspar.elixir.no/api/v1/matrix/?collection=CORE&page=61&quality=high&tax_group=vertebrates\n",
      "Fetching motifs from: https://jaspar.elixir.no/api/v1/matrix/?collection=CORE&page=62&quality=high&tax_group=vertebrates\n",
      "Fetching motifs from: https://jaspar.elixir.no/api/v1/matrix/?collection=CORE&page=63&quality=high&tax_group=vertebrates\n",
      "Fetching motifs from: https://jaspar.elixir.no/api/v1/matrix/?collection=CORE&page=64&quality=high&tax_group=vertebrates\n",
      "Fetching motifs from: https://jaspar.elixir.no/api/v1/matrix/?collection=CORE&page=65&quality=high&tax_group=vertebrates\n",
      "Fetching motifs from: https://jaspar.elixir.no/api/v1/matrix/?collection=CORE&page=66&quality=high&tax_group=vertebrates\n",
      "Fetching motifs from: https://jaspar.elixir.no/api/v1/matrix/?collection=CORE&page=67&quality=high&tax_group=vertebrates\n",
      "Fetching motifs from: https://jaspar.elixir.no/api/v1/matrix/?collection=CORE&page=68&quality=high&tax_group=vertebrates\n",
      "Fetching motifs from: https://jaspar.elixir.no/api/v1/matrix/?collection=CORE&page=69&quality=high&tax_group=vertebrates\n",
      "Fetching motifs from: https://jaspar.elixir.no/api/v1/matrix/?collection=CORE&page=70&quality=high&tax_group=vertebrates\n",
      "Fetching motifs from: https://jaspar.elixir.no/api/v1/matrix/?collection=CORE&page=71&quality=high&tax_group=vertebrates\n",
      "Fetching motifs from: https://jaspar.elixir.no/api/v1/matrix/?collection=CORE&page=72&quality=high&tax_group=vertebrates\n",
      "Fetching motifs from: https://jaspar.elixir.no/api/v1/matrix/?collection=CORE&page=73&quality=high&tax_group=vertebrates\n",
      "Fetching motifs from: https://jaspar.elixir.no/api/v1/matrix/?collection=CORE&page=74&quality=high&tax_group=vertebrates\n",
      "Fetching motifs from: https://jaspar.elixir.no/api/v1/matrix/?collection=CORE&page=75&quality=high&tax_group=vertebrates\n",
      "Fetching motifs from: https://jaspar.elixir.no/api/v1/matrix/?collection=CORE&page=76&quality=high&tax_group=vertebrates\n",
      "Fetching motifs from: https://jaspar.elixir.no/api/v1/matrix/?collection=CORE&page=77&quality=high&tax_group=vertebrates\n",
      "Fetching motifs from: https://jaspar.elixir.no/api/v1/matrix/?collection=CORE&page=78&quality=high&tax_group=vertebrates\n",
      "Fetching motifs from: https://jaspar.elixir.no/api/v1/matrix/?collection=CORE&page=79&quality=high&tax_group=vertebrates\n",
      "Fetching motifs from: https://jaspar.elixir.no/api/v1/matrix/?collection=CORE&page=80&quality=high&tax_group=vertebrates\n",
      "Fetching motifs from: https://jaspar.elixir.no/api/v1/matrix/?collection=CORE&page=81&quality=high&tax_group=vertebrates\n",
      "Fetching motifs from: https://jaspar.elixir.no/api/v1/matrix/?collection=CORE&page=82&quality=high&tax_group=vertebrates\n",
      "Fetching motifs from: https://jaspar.elixir.no/api/v1/matrix/?collection=CORE&page=83&quality=high&tax_group=vertebrates\n",
      "Fetching motifs from: https://jaspar.elixir.no/api/v1/matrix/?collection=CORE&page=84&quality=high&tax_group=vertebrates\n",
      "Fetching motifs from: https://jaspar.elixir.no/api/v1/matrix/?collection=CORE&page=85&quality=high&tax_group=vertebrates\n",
      "Fetching motifs from: https://jaspar.elixir.no/api/v1/matrix/?collection=CORE&page=86&quality=high&tax_group=vertebrates\n",
      "Fetching motifs from: https://jaspar.elixir.no/api/v1/matrix/?collection=CORE&page=87&quality=high&tax_group=vertebrates\n",
      "Fetching motifs from: https://jaspar.elixir.no/api/v1/matrix/?collection=CORE&page=88&quality=high&tax_group=vertebrates\n",
      "Fetching motifs from: https://jaspar.elixir.no/api/v1/matrix/?collection=CORE&page=89&quality=high&tax_group=vertebrates\n",
      "Fetching motifs from: https://jaspar.elixir.no/api/v1/matrix/?collection=CORE&page=90&quality=high&tax_group=vertebrates\n",
      "Fetching motifs from: https://jaspar.elixir.no/api/v1/matrix/?collection=CORE&page=91&quality=high&tax_group=vertebrates\n",
      "Fetching motifs from: https://jaspar.elixir.no/api/v1/matrix/?collection=CORE&page=92&quality=high&tax_group=vertebrates\n",
      "Fetching motifs from: https://jaspar.elixir.no/api/v1/matrix/?collection=CORE&page=93&quality=high&tax_group=vertebrates\n",
      "Fetching motifs from: https://jaspar.elixir.no/api/v1/matrix/?collection=CORE&page=94&quality=high&tax_group=vertebrates\n",
      "Fetching motifs from: https://jaspar.elixir.no/api/v1/matrix/?collection=CORE&page=95&quality=high&tax_group=vertebrates\n",
      "Fetching motifs from: https://jaspar.elixir.no/api/v1/matrix/?collection=CORE&page=96&quality=high&tax_group=vertebrates\n",
      "Fetching motifs from: https://jaspar.elixir.no/api/v1/matrix/?collection=CORE&page=97&quality=high&tax_group=vertebrates\n",
      "Fetching motifs from: https://jaspar.elixir.no/api/v1/matrix/?collection=CORE&page=98&quality=high&tax_group=vertebrates\n",
      "Fetching motifs from: https://jaspar.elixir.no/api/v1/matrix/?collection=CORE&page=99&quality=high&tax_group=vertebrates\n",
      "Fetching motifs from: https://jaspar.elixir.no/api/v1/matrix/?collection=CORE&page=100&quality=high&tax_group=vertebrates\n",
      "Fetching motifs from: https://jaspar.elixir.no/api/v1/matrix/?collection=CORE&page=101&quality=high&tax_group=vertebrates\n",
      "Fetching motifs from: https://jaspar.elixir.no/api/v1/matrix/?collection=CORE&page=102&quality=high&tax_group=vertebrates\n",
      "Fetching motifs from: https://jaspar.elixir.no/api/v1/matrix/?collection=CORE&page=103&quality=high&tax_group=vertebrates\n",
      "Fetching motifs from: https://jaspar.elixir.no/api/v1/matrix/?collection=CORE&page=104&quality=high&tax_group=vertebrates\n",
      "Fetching motifs from: https://jaspar.elixir.no/api/v1/matrix/?collection=CORE&page=105&quality=high&tax_group=vertebrates\n",
      "Fetching motifs from: https://jaspar.elixir.no/api/v1/matrix/?collection=CORE&page=106&quality=high&tax_group=vertebrates\n",
      "Fetching motifs from: https://jaspar.elixir.no/api/v1/matrix/?collection=CORE&page=107&quality=high&tax_group=vertebrates\n",
      "Fetching motifs from: https://jaspar.elixir.no/api/v1/matrix/?collection=CORE&page=108&quality=high&tax_group=vertebrates\n",
      "Fetching motifs from: https://jaspar.elixir.no/api/v1/matrix/?collection=CORE&page=109&quality=high&tax_group=vertebrates\n",
      "Fetching motifs from: https://jaspar.elixir.no/api/v1/matrix/?collection=CORE&page=110&quality=high&tax_group=vertebrates\n",
      "Fetching motifs from: https://jaspar.elixir.no/api/v1/matrix/?collection=CORE&page=111&quality=high&tax_group=vertebrates\n",
      "Fetching motifs from: https://jaspar.elixir.no/api/v1/matrix/?collection=CORE&page=112&quality=high&tax_group=vertebrates\n",
      "Fetching motifs from: https://jaspar.elixir.no/api/v1/matrix/?collection=CORE&page=113&quality=high&tax_group=vertebrates\n",
      "Fetching motifs from: https://jaspar.elixir.no/api/v1/matrix/?collection=CORE&page=114&quality=high&tax_group=vertebrates\n",
      "Fetching motifs from: https://jaspar.elixir.no/api/v1/matrix/?collection=CORE&page=115&quality=high&tax_group=vertebrates\n",
      "Fetching motifs from: https://jaspar.elixir.no/api/v1/matrix/?collection=CORE&page=116&quality=high&tax_group=vertebrates\n",
      "Fetching motifs from: https://jaspar.elixir.no/api/v1/matrix/?collection=CORE&page=117&quality=high&tax_group=vertebrates\n",
      "Fetching motifs from: https://jaspar.elixir.no/api/v1/matrix/?collection=CORE&page=118&quality=high&tax_group=vertebrates\n",
      "Fetching motifs from: https://jaspar.elixir.no/api/v1/matrix/?collection=CORE&page=119&quality=high&tax_group=vertebrates\n",
      "Fetching motifs from: https://jaspar.elixir.no/api/v1/matrix/?collection=CORE&page=120&quality=high&tax_group=vertebrates\n",
      "Fetching motifs from: https://jaspar.elixir.no/api/v1/matrix/?collection=CORE&page=121&quality=high&tax_group=vertebrates\n",
      "Fetching motifs from: https://jaspar.elixir.no/api/v1/matrix/?collection=CORE&page=122&quality=high&tax_group=vertebrates\n",
      "Fetching motifs from: https://jaspar.elixir.no/api/v1/matrix/?collection=CORE&page=123&quality=high&tax_group=vertebrates\n",
      "Fetching motifs from: https://jaspar.elixir.no/api/v1/matrix/?collection=CORE&page=124&quality=high&tax_group=vertebrates\n",
      "Fetching motifs from: https://jaspar.elixir.no/api/v1/matrix/?collection=CORE&page=125&quality=high&tax_group=vertebrates\n",
      "Fetching motifs from: https://jaspar.elixir.no/api/v1/matrix/?collection=CORE&page=126&quality=high&tax_group=vertebrates\n",
      "Fetching motifs from: https://jaspar.elixir.no/api/v1/matrix/?collection=CORE&page=127&quality=high&tax_group=vertebrates\n",
      "Fetching motifs from: https://jaspar.elixir.no/api/v1/matrix/?collection=CORE&page=128&quality=high&tax_group=vertebrates\n",
      "Fetching motifs from: https://jaspar.elixir.no/api/v1/matrix/?collection=CORE&page=129&quality=high&tax_group=vertebrates\n",
      "Fetching motifs from: https://jaspar.elixir.no/api/v1/matrix/?collection=CORE&page=130&quality=high&tax_group=vertebrates\n",
      "Fetching motifs from: https://jaspar.elixir.no/api/v1/matrix/?collection=CORE&page=131&quality=high&tax_group=vertebrates\n",
      "Fetching motifs from: https://jaspar.elixir.no/api/v1/matrix/?collection=CORE&page=132&quality=high&tax_group=vertebrates\n",
      "Fetching motifs from: https://jaspar.elixir.no/api/v1/matrix/?collection=CORE&page=133&quality=high&tax_group=vertebrates\n",
      "Fetching motifs from: https://jaspar.elixir.no/api/v1/matrix/?collection=CORE&page=134&quality=high&tax_group=vertebrates\n",
      "Fetching motifs from: https://jaspar.elixir.no/api/v1/matrix/?collection=CORE&page=135&quality=high&tax_group=vertebrates\n",
      "Fetching motifs from: https://jaspar.elixir.no/api/v1/matrix/?collection=CORE&page=136&quality=high&tax_group=vertebrates\n",
      "Fetching motifs from: https://jaspar.elixir.no/api/v1/matrix/?collection=CORE&page=137&quality=high&tax_group=vertebrates\n",
      "Fetching motifs from: https://jaspar.elixir.no/api/v1/matrix/?collection=CORE&page=138&quality=high&tax_group=vertebrates\n",
      "Fetching motifs from: https://jaspar.elixir.no/api/v1/matrix/?collection=CORE&page=139&quality=high&tax_group=vertebrates\n",
      "Fetching motifs from: https://jaspar.elixir.no/api/v1/matrix/?collection=CORE&page=140&quality=high&tax_group=vertebrates\n",
      "Fetching motifs from: https://jaspar.elixir.no/api/v1/matrix/?collection=CORE&page=141&quality=high&tax_group=vertebrates\n",
      "Fetching motifs from: https://jaspar.elixir.no/api/v1/matrix/?collection=CORE&page=142&quality=high&tax_group=vertebrates\n",
      "Fetching motifs from: https://jaspar.elixir.no/api/v1/matrix/?collection=CORE&page=143&quality=high&tax_group=vertebrates\n",
      "Fetching motifs from: https://jaspar.elixir.no/api/v1/matrix/?collection=CORE&page=144&quality=high&tax_group=vertebrates\n",
      "Fetching motifs from: https://jaspar.elixir.no/api/v1/matrix/?collection=CORE&page=145&quality=high&tax_group=vertebrates\n",
      "Fetching motifs from: https://jaspar.elixir.no/api/v1/matrix/?collection=CORE&page=146&quality=high&tax_group=vertebrates\n",
      "Fetching motifs from: https://jaspar.elixir.no/api/v1/matrix/?collection=CORE&page=147&quality=high&tax_group=vertebrates\n",
      "Fetching motifs from: https://jaspar.elixir.no/api/v1/matrix/?collection=CORE&page=148&quality=high&tax_group=vertebrates\n",
      "Fetching motifs from: https://jaspar.elixir.no/api/v1/matrix/?collection=CORE&page=149&quality=high&tax_group=vertebrates\n",
      "Fetching motifs from: https://jaspar.elixir.no/api/v1/matrix/?collection=CORE&page=150&quality=high&tax_group=vertebrates\n",
      "Fetching motifs from: https://jaspar.elixir.no/api/v1/matrix/?collection=CORE&page=151&quality=high&tax_group=vertebrates\n",
      "Fetching motifs from: https://jaspar.elixir.no/api/v1/matrix/?collection=CORE&page=152&quality=high&tax_group=vertebrates\n",
      "Fetching motifs from: https://jaspar.elixir.no/api/v1/matrix/?collection=CORE&page=153&quality=high&tax_group=vertebrates\n",
      "Fetching motifs from: https://jaspar.elixir.no/api/v1/matrix/?collection=CORE&page=154&quality=high&tax_group=vertebrates\n",
      "Fetching motifs from: https://jaspar.elixir.no/api/v1/matrix/?collection=CORE&page=155&quality=high&tax_group=vertebrates\n",
      "Fetching motifs from: https://jaspar.elixir.no/api/v1/matrix/?collection=CORE&page=156&quality=high&tax_group=vertebrates\n",
      "Fetching motifs from: https://jaspar.elixir.no/api/v1/matrix/?collection=CORE&page=157&quality=high&tax_group=vertebrates\n",
      "Fetching motifs from: https://jaspar.elixir.no/api/v1/matrix/?collection=CORE&page=158&quality=high&tax_group=vertebrates\n",
      "Fetching motifs from: https://jaspar.elixir.no/api/v1/matrix/?collection=CORE&page=159&quality=high&tax_group=vertebrates\n",
      "Fetching motifs from: https://jaspar.elixir.no/api/v1/matrix/?collection=CORE&page=160&quality=high&tax_group=vertebrates\n",
      "Fetching motifs from: https://jaspar.elixir.no/api/v1/matrix/?collection=CORE&page=161&quality=high&tax_group=vertebrates\n",
      "Fetching motifs from: https://jaspar.elixir.no/api/v1/matrix/?collection=CORE&page=162&quality=high&tax_group=vertebrates\n",
      "Fetching motifs from: https://jaspar.elixir.no/api/v1/matrix/?collection=CORE&page=163&quality=high&tax_group=vertebrates\n",
      "Fetching motifs from: https://jaspar.elixir.no/api/v1/matrix/?collection=CORE&page=164&quality=high&tax_group=vertebrates\n",
      "Fetching motifs from: https://jaspar.elixir.no/api/v1/matrix/?collection=CORE&page=165&quality=high&tax_group=vertebrates\n",
      "Fetching motifs from: https://jaspar.elixir.no/api/v1/matrix/?collection=CORE&page=166&quality=high&tax_group=vertebrates\n",
      "Fetching motifs from: https://jaspar.elixir.no/api/v1/matrix/?collection=CORE&page=167&quality=high&tax_group=vertebrates\n",
      "Fetching motifs from: https://jaspar.elixir.no/api/v1/matrix/?collection=CORE&page=168&quality=high&tax_group=vertebrates\n",
      "Fetching motifs from: https://jaspar.elixir.no/api/v1/matrix/?collection=CORE&page=169&quality=high&tax_group=vertebrates\n",
      "Fetching motifs from: https://jaspar.elixir.no/api/v1/matrix/?collection=CORE&page=170&quality=high&tax_group=vertebrates\n",
      "Fetching motifs from: https://jaspar.elixir.no/api/v1/matrix/?collection=CORE&page=171&quality=high&tax_group=vertebrates\n",
      "Fetching motifs from: https://jaspar.elixir.no/api/v1/matrix/?collection=CORE&page=172&quality=high&tax_group=vertebrates\n",
      "Fetching motifs from: https://jaspar.elixir.no/api/v1/matrix/?collection=CORE&page=173&quality=high&tax_group=vertebrates\n",
      "Fetching motifs from: https://jaspar.elixir.no/api/v1/matrix/?collection=CORE&page=174&quality=high&tax_group=vertebrates\n",
      "Fetching motifs from: https://jaspar.elixir.no/api/v1/matrix/?collection=CORE&page=175&quality=high&tax_group=vertebrates\n",
      "Fetching motifs from: https://jaspar.elixir.no/api/v1/matrix/?collection=CORE&page=176&quality=high&tax_group=vertebrates\n",
      "Fetching motifs from: https://jaspar.elixir.no/api/v1/matrix/?collection=CORE&page=177&quality=high&tax_group=vertebrates\n",
      "Fetching motifs from: https://jaspar.elixir.no/api/v1/matrix/?collection=CORE&page=178&quality=high&tax_group=vertebrates\n",
      "Fetching motifs from: https://jaspar.elixir.no/api/v1/matrix/?collection=CORE&page=179&quality=high&tax_group=vertebrates\n",
      "Fetching motifs from: https://jaspar.elixir.no/api/v1/matrix/?collection=CORE&page=180&quality=high&tax_group=vertebrates\n",
      "Fetching motifs from: https://jaspar.elixir.no/api/v1/matrix/?collection=CORE&page=181&quality=high&tax_group=vertebrates\n",
      "Fetching motifs from: https://jaspar.elixir.no/api/v1/matrix/?collection=CORE&page=182&quality=high&tax_group=vertebrates\n",
      "Fetching motifs from: https://jaspar.elixir.no/api/v1/matrix/?collection=CORE&page=183&quality=high&tax_group=vertebrates\n",
      "Fetching motifs from: https://jaspar.elixir.no/api/v1/matrix/?collection=CORE&page=184&quality=high&tax_group=vertebrates\n",
      "Fetching motifs from: https://jaspar.elixir.no/api/v1/matrix/?collection=CORE&page=185&quality=high&tax_group=vertebrates\n",
      "Fetching motifs from: https://jaspar.elixir.no/api/v1/matrix/?collection=CORE&page=186&quality=high&tax_group=vertebrates\n",
      "Fetching motifs from: https://jaspar.elixir.no/api/v1/matrix/?collection=CORE&page=187&quality=high&tax_group=vertebrates\n",
      "Fetching motifs from: https://jaspar.elixir.no/api/v1/matrix/?collection=CORE&page=188&quality=high&tax_group=vertebrates\n",
      "Fetching motifs from: https://jaspar.elixir.no/api/v1/matrix/?collection=CORE&page=189&quality=high&tax_group=vertebrates\n",
      "Fetching motifs from: https://jaspar.elixir.no/api/v1/matrix/?collection=CORE&page=190&quality=high&tax_group=vertebrates\n",
      "Fetching motifs from: https://jaspar.elixir.no/api/v1/matrix/?collection=CORE&page=191&quality=high&tax_group=vertebrates\n",
      "Fetching motifs from: https://jaspar.elixir.no/api/v1/matrix/?collection=CORE&page=192&quality=high&tax_group=vertebrates\n",
      "Retrieved 1912 motifs.\n",
      "Retrieved PFM for https://jaspar.elixir.no/api/v1/matrix/MA0634.1/: {'A': [1251.0, 987.0, 794.0, 7877.0, 7877.0, 76.0, 697.0, 7877.0, 2597.0, 2759.0], 'C': [2174.0, 3402.0, 3367.0, 506.0, 317.0, 72.0, 729.0, 449.0, 1671.0, 2446.0], 'G': [1062.0, 1150.0, 345.0, 885.0, 141.0, 8.0, 239.0, 87.0, 2205.0, 1503.0], 'T': [3390.0, 2337.0, 4510.0, 629.0, 231.0, 7877.0, 7877.0, 977.0, 1403.0, 1168.0]}\n"
     ]
    },
    {
     "ename": "IndexError",
     "evalue": "too many indices for array: array is 0-dimensional, but 1 were indexed",
     "output_type": "error",
     "traceback": [
      "\u001b[0;31m---------------------------------------------------------------------------\u001b[0m",
      "\u001b[0;31mIndexError\u001b[0m                                Traceback (most recent call last)",
      "Cell \u001b[0;32mIn[13], line 124\u001b[0m\n\u001b[1;32m    121\u001b[0m         \u001b[38;5;28mprint\u001b[39m(e)\n\u001b[1;32m    123\u001b[0m \u001b[38;5;28;01mif\u001b[39;00m \u001b[38;5;18m__name__\u001b[39m \u001b[38;5;241m==\u001b[39m \u001b[38;5;124m\"\u001b[39m\u001b[38;5;124m__main__\u001b[39m\u001b[38;5;124m\"\u001b[39m:\n\u001b[0;32m--> 124\u001b[0m     \u001b[43mmain\u001b[49m\u001b[43m(\u001b[49m\u001b[43m)\u001b[49m\n",
      "Cell \u001b[0;32mIn[13], line 118\u001b[0m, in \u001b[0;36mmain\u001b[0;34m()\u001b[0m\n\u001b[1;32m    116\u001b[0m     \u001b[38;5;66;03m# Save motifs to a CSV file\u001b[39;00m\n\u001b[1;32m    117\u001b[0m     output_file \u001b[38;5;241m=\u001b[39m \u001b[38;5;124m\"\u001b[39m\u001b[38;5;124mhigh_quality_motifs_with_pfm_pwm.csv\u001b[39m\u001b[38;5;124m\"\u001b[39m\n\u001b[0;32m--> 118\u001b[0m     \u001b[43msave_to_csv\u001b[49m\u001b[43m(\u001b[49m\u001b[43mall_motifs\u001b[49m\u001b[43m,\u001b[49m\u001b[43m \u001b[49m\u001b[43moutput_file\u001b[49m\u001b[43m)\u001b[49m\n\u001b[1;32m    119\u001b[0m     \u001b[38;5;28mprint\u001b[39m(\u001b[38;5;124mf\u001b[39m\u001b[38;5;124m\"\u001b[39m\u001b[38;5;124mSaved motifs to \u001b[39m\u001b[38;5;132;01m{\u001b[39;00moutput_file\u001b[38;5;132;01m}\u001b[39;00m\u001b[38;5;124m\"\u001b[39m)\n\u001b[1;32m    120\u001b[0m \u001b[38;5;28;01mexcept\u001b[39;00m \u001b[38;5;167;01mValueError\u001b[39;00m \u001b[38;5;28;01mas\u001b[39;00m e:\n",
      "Cell \u001b[0;32mIn[13], line 96\u001b[0m, in \u001b[0;36msave_to_csv\u001b[0;34m(motifs, output_file)\u001b[0m\n\u001b[1;32m     94\u001b[0m \u001b[38;5;28;01mfor\u001b[39;00m motif \u001b[38;5;129;01min\u001b[39;00m motifs:\n\u001b[1;32m     95\u001b[0m     pfm \u001b[38;5;241m=\u001b[39m retrieve_pfm(motif[\u001b[38;5;124m\"\u001b[39m\u001b[38;5;124murl\u001b[39m\u001b[38;5;124m\"\u001b[39m])  \u001b[38;5;66;03m# Fetch PFM\u001b[39;00m\n\u001b[0;32m---> 96\u001b[0m     pwm \u001b[38;5;241m=\u001b[39m \u001b[43mcompute_pwm\u001b[49m\u001b[43m(\u001b[49m\u001b[43mpfm\u001b[49m\u001b[43m)\u001b[49m           \u001b[38;5;66;03m# Compute PWM\u001b[39;00m\n\u001b[1;32m     97\u001b[0m     pwm \u001b[38;5;241m=\u001b[39m pwm\u001b[38;5;241m.\u001b[39mtolist()               \u001b[38;5;66;03m# Convert PWM to list\u001b[39;00m\n\u001b[1;32m     99\u001b[0m     \u001b[38;5;66;03m# Write rows for each position in the motif\u001b[39;00m\n",
      "Cell \u001b[0;32mIn[13], line 75\u001b[0m, in \u001b[0;36mcompute_pwm\u001b[0;34m(pfm, background_freq)\u001b[0m\n\u001b[1;32m     73\u001b[0m pwm \u001b[38;5;241m=\u001b[39m []\n\u001b[1;32m     74\u001b[0m \u001b[38;5;28;01mfor\u001b[39;00m i, base \u001b[38;5;129;01min\u001b[39;00m \u001b[38;5;28menumerate\u001b[39m([\u001b[38;5;124m\"\u001b[39m\u001b[38;5;124mA\u001b[39m\u001b[38;5;124m\"\u001b[39m, \u001b[38;5;124m\"\u001b[39m\u001b[38;5;124mC\u001b[39m\u001b[38;5;124m\"\u001b[39m, \u001b[38;5;124m\"\u001b[39m\u001b[38;5;124mG\u001b[39m\u001b[38;5;124m\"\u001b[39m, \u001b[38;5;124m\"\u001b[39m\u001b[38;5;124mT\u001b[39m\u001b[38;5;124m\"\u001b[39m]):\n\u001b[0;32m---> 75\u001b[0m     pwm\u001b[38;5;241m.\u001b[39mappend(np\u001b[38;5;241m.\u001b[39mlog2((\u001b[43mpfm\u001b[49m\u001b[43m[\u001b[49m\u001b[43mi\u001b[49m\u001b[43m]\u001b[49m \u001b[38;5;241m+\u001b[39m \u001b[38;5;241m1e-6\u001b[39m) \u001b[38;5;241m/\u001b[39m background_freq[base]))  \u001b[38;5;66;03m# Add pseudocount to avoid log(0)\u001b[39;00m\n\u001b[1;32m     77\u001b[0m \u001b[38;5;28;01mreturn\u001b[39;00m np\u001b[38;5;241m.\u001b[39marray(pwm)\n",
      "\u001b[0;31mIndexError\u001b[0m: too many indices for array: array is 0-dimensional, but 1 were indexed"
     ]
    }
   ],
   "source": [
    "\n",
    "    # Example: Retrieve all high-quality motifs for vertebrates\n",
    "    tax_group = \"vertebrates\"\n",
    "\n",
    "    try:\n",
    "        print(f\"Fetching high-quality motifs for {tax_group}...\")\n",
    "        all_motifs = fetch_all_motifs(tax_group=tax_group)\n",
    "        print(f\"Retrieved {len(all_motifs)} motifs.\")\n",
    "\n",
    "        # Save motifs to a CSV file\n",
    "        output_file = \"high_quality_motifs_with_pfm_pwm.csv\"\n",
    "        save_to_csv(all_motifs, output_file)\n",
    "        print(f\"Saved motifs to {output_file}\")\n",
    "    except ValueError as e:\n",
    "        print(e)\n",
    "\n",
    "if __name__ == \"__main__\":\n",
    "    main()\n",
    "\n"
   ]
  },
  {
   "cell_type": "code",
   "execution_count": 14,
   "metadata": {},
   "outputs": [
    {
     "ename": "NameError",
     "evalue": "name 'all_motifs' is not defined",
     "output_type": "error",
     "traceback": [
      "\u001b[0;31m---------------------------------------------------------------------------\u001b[0m",
      "\u001b[0;31mNameError\u001b[0m                                 Traceback (most recent call last)",
      "Cell \u001b[0;32mIn[14], line 1\u001b[0m\n\u001b[0;32m----> 1\u001b[0m \u001b[43mall_motifs\u001b[49m\n",
      "\u001b[0;31mNameError\u001b[0m: name 'all_motifs' is not defined"
     ]
    }
   ],
   "source": [
    "all_motifs"
   ]
  },
  {
   "cell_type": "code",
   "execution_count": 13,
   "metadata": {},
   "outputs": [
    {
     "name": "stdout",
     "output_type": "stream",
     "text": [
      "PWMs fetched: ['ALX3', 'AR', 'ARGFX', 'ARNT2', 'ARNT::HIF1A', 'ASCL1']\n"
     ]
    }
   ],
   "source": [
    "import requests\n",
    "from Bio import motifs\n",
    "from io import StringIO\n",
    "\n",
    "def get_jaspar_pwms(tax_group=\"vertebrates\", collection=\"CORE\"):\n",
    "    \"\"\"\n",
    "    Fetch PWMs for a specific taxonomic group and collection from JASPAR.\n",
    "    Args:\n",
    "        tax_group (str): Taxonomic group, e.g., \"vertebrates\".\n",
    "        collection (str): JASPAR collection, e.g., \"CORE\".\n",
    "    Returns:\n",
    "        dict: Dictionary of PWMs with transcription factor names as keys.\n",
    "    \"\"\"\n",
    "    base_url = f\"https://jaspar.genereg.net/api/v1/matrix/?tax_group={tax_group}&collection={collection}\"\n",
    "    response = requests.get(base_url)\n",
    "\n",
    "    if response.status_code != 200:\n",
    "        raise ValueError(f\"API call failed with status code {response.status_code}\")\n",
    "\n",
    "    pwm_data = response.json()\n",
    "    if not pwm_data.get('results'):\n",
    "        raise ValueError(\"No PWM data found. Check query parameters.\")\n",
    "\n",
    "    pwms = {}\n",
    "    for motif in pwm_data['results']:\n",
    "        tf_name = motif.get('name', 'Unknown')\n",
    "        pwm_url = motif.get('url')  # URL to fetch full motif data\n",
    "        pwm_response = requests.get(pwm_url)\n",
    "\n",
    "        if pwm_response.status_code == 200:\n",
    "            motif_details = pwm_response.json()\n",
    "            pfm = motif_details.get('pfm')\n",
    "            if pfm:\n",
    "                # Convert PFM (Position Frequency Matrix) to PWM\n",
    "                pfm_string = \"\\n\".join([\" \".join(map(str, row)) for row in pfm])\n",
    "                pwm = motifs.read(StringIO(pfm_string), \"pfm\")\n",
    "                pwms[tf_name] = pwm\n",
    "            else:\n",
    "                print(f\"No PFM found for {tf_name} (ID: {motif['matrix_id']})\")\n",
    "        else:\n",
    "            print(f\"Failed to fetch PWM for {tf_name} (URL: {pwm_url})\")\n",
    "\n",
    "    return pwms\n",
    "\n",
    "# Test the function\n",
    "jaspar_pwms = get_jaspar_pwms(tax_group=\"vertebrates\", collection=\"CORE\")\n",
    "print(\"PWMs fetched:\", list(jaspar_pwms.keys()))\n",
    "\n"
   ]
  },
  {
   "cell_type": "code",
   "execution_count": 9,
   "metadata": {},
   "outputs": [
    {
     "name": "stdout",
     "output_type": "stream",
     "text": [
      "200\n",
      "{'count': 1912, 'next': 'https://jaspar.elixir.no/api/v1/matrix/?collection=CORE&page=2&tax_group=vertebrates', 'previous': None, 'results': [{'matrix_id': 'MA0634.1', 'name': 'ALX3', 'collection': 'CORE', 'base_id': 'MA0634', 'version': '1', 'sequence_logo': 'https://jaspar.elixir.no/static/logos/svg/MA0634.1.svg', 'url': 'https://jaspar.elixir.no/api/v1/matrix/MA0634.1/'}, {'matrix_id': 'MA0634.2', 'name': 'ALX3', 'collection': 'CORE', 'base_id': 'MA0634', 'version': '2', 'sequence_logo': 'https://jaspar.elixir.no/static/logos/svg/MA0634.2.svg', 'url': 'https://jaspar.elixir.no/api/v1/matrix/MA0634.2/'}, {'matrix_id': 'MA0007.2', 'name': 'AR', 'collection': 'CORE', 'base_id': 'MA0007', 'version': '2', 'sequence_logo': 'https://jaspar.elixir.no/static/logos/svg/MA0007.2.svg', 'url': 'https://jaspar.elixir.no/api/v1/matrix/MA0007.2/'}, {'matrix_id': 'MA1463.1', 'name': 'ARGFX', 'collection': 'CORE', 'base_id': 'MA1463', 'version': '1', 'sequence_logo': 'https://jaspar.elixir.no/static/logos/svg/MA1463.1.svg', 'url': 'https://jaspar.elixir.no/api/v1/matrix/MA1463.1/'}, {'matrix_id': 'MA1463.2', 'name': 'ARGFX', 'collection': 'CORE', 'base_id': 'MA1463', 'version': '2', 'sequence_logo': 'https://jaspar.elixir.no/static/logos/svg/MA1463.2.svg', 'url': 'https://jaspar.elixir.no/api/v1/matrix/MA1463.2/'}, {'matrix_id': 'MA1464.1', 'name': 'ARNT2', 'collection': 'CORE', 'base_id': 'MA1464', 'version': '1', 'sequence_logo': 'https://jaspar.elixir.no/static/logos/svg/MA1464.1.svg', 'url': 'https://jaspar.elixir.no/api/v1/matrix/MA1464.1/'}, {'matrix_id': 'MA1464.2', 'name': 'ARNT2', 'collection': 'CORE', 'base_id': 'MA1464', 'version': '2', 'sequence_logo': 'https://jaspar.elixir.no/static/logos/svg/MA1464.2.svg', 'url': 'https://jaspar.elixir.no/api/v1/matrix/MA1464.2/'}, {'matrix_id': 'MA0259.1', 'name': 'ARNT::HIF1A', 'collection': 'CORE', 'base_id': 'MA0259', 'version': '1', 'sequence_logo': 'https://jaspar.elixir.no/static/logos/svg/MA0259.1.svg', 'url': 'https://jaspar.elixir.no/api/v1/matrix/MA0259.1/'}, {'matrix_id': 'MA0259.2', 'name': 'ARNT::HIF1A', 'collection': 'CORE', 'base_id': 'MA0259', 'version': '2', 'sequence_logo': 'https://jaspar.elixir.no/static/logos/svg/MA0259.2.svg', 'url': 'https://jaspar.elixir.no/api/v1/matrix/MA0259.2/'}, {'matrix_id': 'MA1100.1', 'name': 'ASCL1', 'collection': 'CORE', 'base_id': 'MA1100', 'version': '1', 'sequence_logo': 'https://jaspar.elixir.no/static/logos/svg/MA1100.1.svg', 'url': 'https://jaspar.elixir.no/api/v1/matrix/MA1100.1/'}]}\n"
     ]
    }
   ],
   "source": [
    "base_url = \"https://jaspar.genereg.net/api/v1/matrix/?tax_group=vertebrates&collection=CORE\"\n",
    "response = requests.get(base_url)\n",
    "print(response.status_code)  # Check HTTP status\n",
    "print(response.json())  "
   ]
  },
  {
   "cell_type": "code",
   "execution_count": 10,
   "metadata": {},
   "outputs": [
    {
     "name": "stdout",
     "output_type": "stream",
     "text": [
      "dict_keys(['count', 'next', 'previous', 'results'])\n",
      "[{'matrix_id': 'MA0634.1', 'name': 'ALX3', 'collection': 'CORE', 'base_id': 'MA0634', 'version': '1', 'sequence_logo': 'https://jaspar.elixir.no/static/logos/svg/MA0634.1.svg', 'url': 'https://jaspar.elixir.no/api/v1/matrix/MA0634.1/'}, {'matrix_id': 'MA0634.2', 'name': 'ALX3', 'collection': 'CORE', 'base_id': 'MA0634', 'version': '2', 'sequence_logo': 'https://jaspar.elixir.no/static/logos/svg/MA0634.2.svg', 'url': 'https://jaspar.elixir.no/api/v1/matrix/MA0634.2/'}, {'matrix_id': 'MA0007.2', 'name': 'AR', 'collection': 'CORE', 'base_id': 'MA0007', 'version': '2', 'sequence_logo': 'https://jaspar.elixir.no/static/logos/svg/MA0007.2.svg', 'url': 'https://jaspar.elixir.no/api/v1/matrix/MA0007.2/'}, {'matrix_id': 'MA1463.1', 'name': 'ARGFX', 'collection': 'CORE', 'base_id': 'MA1463', 'version': '1', 'sequence_logo': 'https://jaspar.elixir.no/static/logos/svg/MA1463.1.svg', 'url': 'https://jaspar.elixir.no/api/v1/matrix/MA1463.1/'}, {'matrix_id': 'MA1463.2', 'name': 'ARGFX', 'collection': 'CORE', 'base_id': 'MA1463', 'version': '2', 'sequence_logo': 'https://jaspar.elixir.no/static/logos/svg/MA1463.2.svg', 'url': 'https://jaspar.elixir.no/api/v1/matrix/MA1463.2/'}, {'matrix_id': 'MA1464.1', 'name': 'ARNT2', 'collection': 'CORE', 'base_id': 'MA1464', 'version': '1', 'sequence_logo': 'https://jaspar.elixir.no/static/logos/svg/MA1464.1.svg', 'url': 'https://jaspar.elixir.no/api/v1/matrix/MA1464.1/'}, {'matrix_id': 'MA1464.2', 'name': 'ARNT2', 'collection': 'CORE', 'base_id': 'MA1464', 'version': '2', 'sequence_logo': 'https://jaspar.elixir.no/static/logos/svg/MA1464.2.svg', 'url': 'https://jaspar.elixir.no/api/v1/matrix/MA1464.2/'}, {'matrix_id': 'MA0259.1', 'name': 'ARNT::HIF1A', 'collection': 'CORE', 'base_id': 'MA0259', 'version': '1', 'sequence_logo': 'https://jaspar.elixir.no/static/logos/svg/MA0259.1.svg', 'url': 'https://jaspar.elixir.no/api/v1/matrix/MA0259.1/'}, {'matrix_id': 'MA0259.2', 'name': 'ARNT::HIF1A', 'collection': 'CORE', 'base_id': 'MA0259', 'version': '2', 'sequence_logo': 'https://jaspar.elixir.no/static/logos/svg/MA0259.2.svg', 'url': 'https://jaspar.elixir.no/api/v1/matrix/MA0259.2/'}, {'matrix_id': 'MA1100.1', 'name': 'ASCL1', 'collection': 'CORE', 'base_id': 'MA1100', 'version': '1', 'sequence_logo': 'https://jaspar.elixir.no/static/logos/svg/MA1100.1.svg', 'url': 'https://jaspar.elixir.no/api/v1/matrix/MA1100.1/'}]\n"
     ]
    }
   ],
   "source": [
    "data = response.json()\n",
    "print(data.keys())           # Inspect top-level keys\n",
    "print(data.get('results'))   # Check for PWM data"
   ]
  },
  {
   "cell_type": "code",
   "execution_count": null,
   "metadata": {},
   "outputs": [
    {
     "ename": "TypeError",
     "evalue": "tuple indices must be integers or slices, not str",
     "output_type": "error",
     "traceback": [
      "\u001b[0;31m---------------------------------------------------------------------------\u001b[0m",
      "\u001b[0;31mTypeError\u001b[0m                                 Traceback (most recent call last)",
      "Cell \u001b[0;32mIn[16], line 55\u001b[0m\n\u001b[1;32m     53\u001b[0m \u001b[38;5;28;01mif\u001b[39;00m tf_name \u001b[38;5;129;01min\u001b[39;00m jaspar_pwms:\n\u001b[1;32m     54\u001b[0m     pwm \u001b[38;5;241m=\u001b[39m jaspar_pwms[tf_name]\n\u001b[0;32m---> 55\u001b[0m     sequences, labels \u001b[38;5;241m=\u001b[39m \u001b[43mgenerate_sequences_from_pwm\u001b[49m\u001b[43m(\u001b[49m\u001b[43mpwm\u001b[49m\u001b[43m)\u001b[49m\n\u001b[1;32m     56\u001b[0m     \u001b[38;5;28mprint\u001b[39m(\u001b[38;5;124mf\u001b[39m\u001b[38;5;124m\"\u001b[39m\u001b[38;5;124mGenerated \u001b[39m\u001b[38;5;132;01m{\u001b[39;00m\u001b[38;5;28mlen\u001b[39m(sequences)\u001b[38;5;132;01m}\u001b[39;00m\u001b[38;5;124m sequences for \u001b[39m\u001b[38;5;132;01m{\u001b[39;00mtf_name\u001b[38;5;132;01m}\u001b[39;00m\u001b[38;5;124m.\u001b[39m\u001b[38;5;124m\"\u001b[39m)\n\u001b[1;32m     57\u001b[0m \u001b[38;5;28;01melse\u001b[39;00m:\n",
      "Cell \u001b[0;32mIn[16], line 21\u001b[0m, in \u001b[0;36mgenerate_sequences_from_pwm\u001b[0;34m(pwm, num_sequences, seq_length)\u001b[0m\n\u001b[1;32m     19\u001b[0m     cumulative \u001b[38;5;241m=\u001b[39m [\u001b[38;5;241m0\u001b[39m]\n\u001b[1;32m     20\u001b[0m     \u001b[38;5;28;01mfor\u001b[39;00m base \u001b[38;5;129;01min\u001b[39;00m \u001b[38;5;124m\"\u001b[39m\u001b[38;5;124mACGT\u001b[39m\u001b[38;5;124m\"\u001b[39m:\n\u001b[0;32m---> 21\u001b[0m         cumulative\u001b[38;5;241m.\u001b[39mappend(cumulative[\u001b[38;5;241m-\u001b[39m\u001b[38;5;241m1\u001b[39m] \u001b[38;5;241m+\u001b[39m \u001b[43mpwm\u001b[49m\u001b[38;5;241;43m.\u001b[39;49m\u001b[43mpwm\u001b[49m\u001b[43m[\u001b[49m\u001b[43mposition\u001b[49m\u001b[43m]\u001b[49m\u001b[43m[\u001b[49m\u001b[43mbase\u001b[49m\u001b[43m]\u001b[49m)\n\u001b[1;32m     22\u001b[0m     cumulative_pwm\u001b[38;5;241m.\u001b[39mappend(cumulative[\u001b[38;5;241m1\u001b[39m:])\n\u001b[1;32m     24\u001b[0m \u001b[38;5;28;01mfor\u001b[39;00m _ \u001b[38;5;129;01min\u001b[39;00m \u001b[38;5;28mrange\u001b[39m(num_sequences):\n\u001b[1;32m     25\u001b[0m     \u001b[38;5;66;03m# Generate a positive sequence based on the PWM\u001b[39;00m\n",
      "\u001b[0;31mTypeError\u001b[0m: tuple indices must be integers or slices, not str"
     ]
    }
   ],
   "source": [
    "import random\n",
    "\n",
    "def generate_sequences_from_pwm(pwm, num_sequences=1000, seq_length=30):\n",
    "    \"\"\"\n",
    "    Generate synthetic sequences using a PWM.\n",
    "    Args:\n",
    "        pwm (Bio.motifs.Motif): PWM from JASPAR.\n",
    "        num_sequences (int): Number of positive sequences to generate.\n",
    "        seq_length (int): Length of generated sequences.\n",
    "    Returns:\n",
    "        tuple: Positive and negative sequences with labels.\n",
    "    \"\"\"\n",
    "    sequences = []\n",
    "    labels = []\n",
    "\n",
    "    # Convert PWM into cumulative probabilities for efficient sampling\n",
    "    cumulative_pwm = []\n",
    "    for position in pwm.pwm:\n",
    "        cumulative = [0]\n",
    "        for base in \"ACGT\":\n",
    "            cumulative.append(cumulative[-1] + pwm.pwm[position][base])\n",
    "        cumulative_pwm.append(cumulative[1:])\n",
    "\n",
    "    for _ in range(num_sequences):\n",
    "        # Generate a positive sequence based on the PWM\n",
    "        pos_seq = \"\"\n",
    "        for probs in cumulative_pwm:\n",
    "            rand_val = random.random()\n",
    "            if rand_val < probs[0]:\n",
    "                pos_seq += \"A\"\n",
    "            elif rand_val < probs[1]:\n",
    "                pos_seq += \"C\"\n",
    "            elif rand_val < probs[2]:\n",
    "                pos_seq += \"G\"\n",
    "            else:\n",
    "                pos_seq += \"T\"\n",
    "\n",
    "        sequences.append(pos_seq)\n",
    "        labels.append(1)  # Positive label\n",
    "\n",
    "        # Generate a negative sequence by introducing random mutations\n",
    "        neg_seq = ''.join(\n",
    "            random.choice(\"ACGT\") if random.random() < 0.1 else base\n",
    "            for base in pos_seq\n",
    "        )\n",
    "        sequences.append(neg_seq)\n",
    "        labels.append(0)  # Negative label\n",
    "\n",
    "    return sequences, labels\n",
    "\n",
    "# Example usage for one transcription factor\n",
    "tf_name = \"ALX3\"  # Example TF\n",
    "if tf_name in jaspar_pwms:\n",
    "    pwm = jaspar_pwms[tf_name]\n",
    "    sequences, labels = generate_sequences_from_pwm(pwm)\n",
    "    print(f\"Generated {len(sequences)} sequences for {tf_name}.\")\n",
    "else:\n",
    "    print(f\"Transcription factor {tf_name} not found in jaspar_pwms.\")"
   ]
  },
  {
   "cell_type": "code",
   "execution_count": 8,
   "metadata": {},
   "outputs": [
    {
     "name": "stdout",
     "output_type": "stream",
     "text": [
      "dict_keys([])\n"
     ]
    }
   ],
   "source": [
    "print(jaspar_pwms.keys())\n"
   ]
  },
  {
   "cell_type": "code",
   "execution_count": 9,
   "metadata": {},
   "outputs": [
    {
     "data": {
      "application/vnd.jupyter.widget-view+json": {
       "model_id": "20fe3ec7f9724a3eba19b4e398570b40",
       "version_major": 2,
       "version_minor": 0
      },
      "text/plain": [
       "Map:   0%|          | 0/2000 [00:00<?, ? examples/s]"
      ]
     },
     "metadata": {},
     "output_type": "display_data"
    },
    {
     "name": "stderr",
     "output_type": "stream",
     "text": [
      "Asking to pad to max_length but no maximum length is provided and the model has no predefined maximum length. Default to no padding.\n",
      "Asking to truncate to max_length but no maximum length is provided and the model has no predefined maximum length. Default to no truncation.\n"
     ]
    }
   ],
   "source": [
    "# Load pretrained ESM model (e.g., ESM-2 from Hugging Face)\n",
    "tokenizer = AutoTokenizer.from_pretrained(\"facebook/esm2_t6_8M_UR50D\")  # Replace with your ESM model\n",
    "\n",
    "def preprocess_function(examples):\n",
    "    return tokenizer(examples[\"sequence\"], padding=\"max_length\", truncation=True)\n",
    "\n",
    "# Create Dataset\n",
    "sequences, labels = generate_sequences_from_pwm(pwm=[0.3, 0.2, 0.3, 0.2])  # Replace with real PWM\n",
    "data = {\"sequence\": sequences, \"label\": labels}\n",
    "dataset = Dataset.from_dict(data)\n",
    "\n",
    "# Tokenize the dataset\n",
    "tokenized_dataset = dataset.map(preprocess_function, batched=True)\n"
   ]
  },
  {
   "cell_type": "code",
   "execution_count": 10,
   "metadata": {},
   "outputs": [
    {
     "name": "stderr",
     "output_type": "stream",
     "text": [
      "Some weights of EsmForSequenceClassification were not initialized from the model checkpoint at facebook/esm2_t6_8M_UR50D and are newly initialized: ['classifier.dense.bias', 'classifier.dense.weight', 'classifier.out_proj.bias', 'classifier.out_proj.weight']\n",
      "You should probably TRAIN this model on a down-stream task to be able to use it for predictions and inference.\n"
     ]
    }
   ],
   "source": [
    "model = AutoModelForSequenceClassification.from_pretrained(\"facebook/esm2_t6_8M_UR50D\", num_labels=2)\n",
    "\n",
    "# Adjust final layers for binary classification\n",
    "model.config.problem_type = \"single_label_classification\""
   ]
  },
  {
   "cell_type": "code",
   "execution_count": 12,
   "metadata": {},
   "outputs": [
    {
     "name": "stderr",
     "output_type": "stream",
     "text": [
      "/home/anton.thieme/miniconda3/envs/sc_env/lib/python3.12/site-packages/transformers/training_args.py:1575: FutureWarning: `evaluation_strategy` is deprecated and will be removed in version 4.46 of 🤗 Transformers. Use `eval_strategy` instead\n",
      "  warnings.warn(\n",
      "/home/anton.thieme/miniconda3/envs/sc_env/lib/python3.12/site-packages/torch/cuda/__init__.py:716: UserWarning: Can't initialize NVML\n",
      "  warnings.warn(\"Can't initialize NVML\")\n"
     ]
    },
    {
     "data": {
      "application/vnd.jupyter.widget-view+json": {
       "model_id": "b0757ff4c10b4e93a253a0a7f6dd5b74",
       "version_major": 2,
       "version_minor": 0
      },
      "text/plain": [
       "Downloading builder script:   0%|          | 0.00/4.20k [00:00<?, ?B/s]"
      ]
     },
     "metadata": {},
     "output_type": "display_data"
    },
    {
     "name": "stderr",
     "output_type": "stream",
     "text": [
      "/tmp/ipykernel_145328/4229830567.py:23: FutureWarning: `tokenizer` is deprecated and will be removed in version 5.0.0 for `Trainer.__init__`. Use `processing_class` instead.\n",
      "  trainer = Trainer(\n",
      "Detected kernel version 4.18.0, which is below the recommended minimum of 5.5.0; this can cause the process to hang. It is recommended to upgrade the kernel to the minimum version or higher.\n"
     ]
    },
    {
     "data": {
      "text/html": [
       "\n",
       "    <div>\n",
       "      \n",
       "      <progress value='183' max='339' style='width:300px; height:20px; vertical-align: middle;'></progress>\n",
       "      [183/339 11:58 < 10:19, 0.25 it/s, Epoch 1.61/3]\n",
       "    </div>\n",
       "    <table border=\"1\" class=\"dataframe\">\n",
       "  <thead>\n",
       " <tr style=\"text-align: left;\">\n",
       "      <th>Epoch</th>\n",
       "      <th>Training Loss</th>\n",
       "      <th>Validation Loss</th>\n",
       "      <th>Accuracy</th>\n",
       "    </tr>\n",
       "  </thead>\n",
       "  <tbody>\n",
       "    <tr>\n",
       "      <td>1</td>\n",
       "      <td>0.694100</td>\n",
       "      <td>0.692913</td>\n",
       "      <td>0.500000</td>\n",
       "    </tr>\n",
       "  </tbody>\n",
       "</table><p>"
      ],
      "text/plain": [
       "<IPython.core.display.HTML object>"
      ]
     },
     "metadata": {},
     "output_type": "display_data"
    },
    {
     "ename": "KeyboardInterrupt",
     "evalue": "",
     "output_type": "error",
     "traceback": [
      "\u001b[0;31m---------------------------------------------------------------------------\u001b[0m",
      "\u001b[0;31mKeyboardInterrupt\u001b[0m                         Traceback (most recent call last)",
      "Cell \u001b[0;32mIn[12], line 33\u001b[0m\n\u001b[1;32m     23\u001b[0m trainer \u001b[38;5;241m=\u001b[39m Trainer(\n\u001b[1;32m     24\u001b[0m     model\u001b[38;5;241m=\u001b[39mmodel,\n\u001b[1;32m     25\u001b[0m     args\u001b[38;5;241m=\u001b[39mtraining_args,\n\u001b[0;32m   (...)\u001b[0m\n\u001b[1;32m     29\u001b[0m     compute_metrics\u001b[38;5;241m=\u001b[39mcompute_metrics,\n\u001b[1;32m     30\u001b[0m )\n\u001b[1;32m     32\u001b[0m \u001b[38;5;66;03m# Fine-tune the model\u001b[39;00m\n\u001b[0;32m---> 33\u001b[0m \u001b[43mtrainer\u001b[49m\u001b[38;5;241;43m.\u001b[39;49m\u001b[43mtrain\u001b[49m\u001b[43m(\u001b[49m\u001b[43m)\u001b[49m\n",
      "File \u001b[0;32m~/miniconda3/envs/sc_env/lib/python3.12/site-packages/transformers/trainer.py:2164\u001b[0m, in \u001b[0;36mTrainer.train\u001b[0;34m(self, resume_from_checkpoint, trial, ignore_keys_for_eval, **kwargs)\u001b[0m\n\u001b[1;32m   2162\u001b[0m         hf_hub_utils\u001b[38;5;241m.\u001b[39menable_progress_bars()\n\u001b[1;32m   2163\u001b[0m \u001b[38;5;28;01melse\u001b[39;00m:\n\u001b[0;32m-> 2164\u001b[0m     \u001b[38;5;28;01mreturn\u001b[39;00m \u001b[43minner_training_loop\u001b[49m\u001b[43m(\u001b[49m\n\u001b[1;32m   2165\u001b[0m \u001b[43m        \u001b[49m\u001b[43margs\u001b[49m\u001b[38;5;241;43m=\u001b[39;49m\u001b[43margs\u001b[49m\u001b[43m,\u001b[49m\n\u001b[1;32m   2166\u001b[0m \u001b[43m        \u001b[49m\u001b[43mresume_from_checkpoint\u001b[49m\u001b[38;5;241;43m=\u001b[39;49m\u001b[43mresume_from_checkpoint\u001b[49m\u001b[43m,\u001b[49m\n\u001b[1;32m   2167\u001b[0m \u001b[43m        \u001b[49m\u001b[43mtrial\u001b[49m\u001b[38;5;241;43m=\u001b[39;49m\u001b[43mtrial\u001b[49m\u001b[43m,\u001b[49m\n\u001b[1;32m   2168\u001b[0m \u001b[43m        \u001b[49m\u001b[43mignore_keys_for_eval\u001b[49m\u001b[38;5;241;43m=\u001b[39;49m\u001b[43mignore_keys_for_eval\u001b[49m\u001b[43m,\u001b[49m\n\u001b[1;32m   2169\u001b[0m \u001b[43m    \u001b[49m\u001b[43m)\u001b[49m\n",
      "File \u001b[0;32m~/miniconda3/envs/sc_env/lib/python3.12/site-packages/transformers/trainer.py:2524\u001b[0m, in \u001b[0;36mTrainer._inner_training_loop\u001b[0;34m(self, batch_size, args, resume_from_checkpoint, trial, ignore_keys_for_eval)\u001b[0m\n\u001b[1;32m   2517\u001b[0m context \u001b[38;5;241m=\u001b[39m (\n\u001b[1;32m   2518\u001b[0m     functools\u001b[38;5;241m.\u001b[39mpartial(\u001b[38;5;28mself\u001b[39m\u001b[38;5;241m.\u001b[39maccelerator\u001b[38;5;241m.\u001b[39mno_sync, model\u001b[38;5;241m=\u001b[39mmodel)\n\u001b[1;32m   2519\u001b[0m     \u001b[38;5;28;01mif\u001b[39;00m i \u001b[38;5;241m!=\u001b[39m \u001b[38;5;28mlen\u001b[39m(batch_samples) \u001b[38;5;241m-\u001b[39m \u001b[38;5;241m1\u001b[39m\n\u001b[1;32m   2520\u001b[0m     \u001b[38;5;129;01mand\u001b[39;00m \u001b[38;5;28mself\u001b[39m\u001b[38;5;241m.\u001b[39maccelerator\u001b[38;5;241m.\u001b[39mdistributed_type \u001b[38;5;241m!=\u001b[39m DistributedType\u001b[38;5;241m.\u001b[39mDEEPSPEED\n\u001b[1;32m   2521\u001b[0m     \u001b[38;5;28;01melse\u001b[39;00m contextlib\u001b[38;5;241m.\u001b[39mnullcontext\n\u001b[1;32m   2522\u001b[0m )\n\u001b[1;32m   2523\u001b[0m \u001b[38;5;28;01mwith\u001b[39;00m context():\n\u001b[0;32m-> 2524\u001b[0m     tr_loss_step \u001b[38;5;241m=\u001b[39m \u001b[38;5;28;43mself\u001b[39;49m\u001b[38;5;241;43m.\u001b[39;49m\u001b[43mtraining_step\u001b[49m\u001b[43m(\u001b[49m\u001b[43mmodel\u001b[49m\u001b[43m,\u001b[49m\u001b[43m \u001b[49m\u001b[43minputs\u001b[49m\u001b[43m,\u001b[49m\u001b[43m \u001b[49m\u001b[43mnum_items_in_batch\u001b[49m\u001b[43m)\u001b[49m\n\u001b[1;32m   2526\u001b[0m \u001b[38;5;28;01mif\u001b[39;00m (\n\u001b[1;32m   2527\u001b[0m     args\u001b[38;5;241m.\u001b[39mlogging_nan_inf_filter\n\u001b[1;32m   2528\u001b[0m     \u001b[38;5;129;01mand\u001b[39;00m \u001b[38;5;129;01mnot\u001b[39;00m is_torch_xla_available()\n\u001b[1;32m   2529\u001b[0m     \u001b[38;5;129;01mand\u001b[39;00m (torch\u001b[38;5;241m.\u001b[39misnan(tr_loss_step) \u001b[38;5;129;01mor\u001b[39;00m torch\u001b[38;5;241m.\u001b[39misinf(tr_loss_step))\n\u001b[1;32m   2530\u001b[0m ):\n\u001b[1;32m   2531\u001b[0m     \u001b[38;5;66;03m# if loss is nan or inf simply add the average of previous logged losses\u001b[39;00m\n\u001b[1;32m   2532\u001b[0m     tr_loss \u001b[38;5;241m=\u001b[39m tr_loss \u001b[38;5;241m+\u001b[39m tr_loss \u001b[38;5;241m/\u001b[39m (\u001b[38;5;241m1\u001b[39m \u001b[38;5;241m+\u001b[39m \u001b[38;5;28mself\u001b[39m\u001b[38;5;241m.\u001b[39mstate\u001b[38;5;241m.\u001b[39mglobal_step \u001b[38;5;241m-\u001b[39m \u001b[38;5;28mself\u001b[39m\u001b[38;5;241m.\u001b[39m_globalstep_last_logged)\n",
      "File \u001b[0;32m~/miniconda3/envs/sc_env/lib/python3.12/site-packages/transformers/trainer.py:3687\u001b[0m, in \u001b[0;36mTrainer.training_step\u001b[0;34m(***failed resolving arguments***)\u001b[0m\n\u001b[1;32m   3685\u001b[0m         scaled_loss\u001b[38;5;241m.\u001b[39mbackward()\n\u001b[1;32m   3686\u001b[0m \u001b[38;5;28;01melse\u001b[39;00m:\n\u001b[0;32m-> 3687\u001b[0m     \u001b[38;5;28;43mself\u001b[39;49m\u001b[38;5;241;43m.\u001b[39;49m\u001b[43maccelerator\u001b[49m\u001b[38;5;241;43m.\u001b[39;49m\u001b[43mbackward\u001b[49m\u001b[43m(\u001b[49m\u001b[43mloss\u001b[49m\u001b[43m,\u001b[49m\u001b[43m \u001b[49m\u001b[38;5;241;43m*\u001b[39;49m\u001b[38;5;241;43m*\u001b[39;49m\u001b[43mkwargs\u001b[49m\u001b[43m)\u001b[49m\n\u001b[1;32m   3688\u001b[0m     \u001b[38;5;66;03m# Finally we need to normalize the loss for reporting\u001b[39;00m\n\u001b[1;32m   3689\u001b[0m     \u001b[38;5;28;01mif\u001b[39;00m num_items_in_batch \u001b[38;5;129;01mis\u001b[39;00m \u001b[38;5;28;01mNone\u001b[39;00m:\n",
      "File \u001b[0;32m~/miniconda3/envs/sc_env/lib/python3.12/site-packages/accelerate/accelerator.py:2248\u001b[0m, in \u001b[0;36mAccelerator.backward\u001b[0;34m(self, loss, **kwargs)\u001b[0m\n\u001b[1;32m   2246\u001b[0m     \u001b[38;5;28mself\u001b[39m\u001b[38;5;241m.\u001b[39mlomo_backward(loss, learning_rate)\n\u001b[1;32m   2247\u001b[0m \u001b[38;5;28;01melse\u001b[39;00m:\n\u001b[0;32m-> 2248\u001b[0m     \u001b[43mloss\u001b[49m\u001b[38;5;241;43m.\u001b[39;49m\u001b[43mbackward\u001b[49m\u001b[43m(\u001b[49m\u001b[38;5;241;43m*\u001b[39;49m\u001b[38;5;241;43m*\u001b[39;49m\u001b[43mkwargs\u001b[49m\u001b[43m)\u001b[49m\n",
      "File \u001b[0;32m~/miniconda3/envs/sc_env/lib/python3.12/site-packages/torch/_tensor.py:581\u001b[0m, in \u001b[0;36mTensor.backward\u001b[0;34m(self, gradient, retain_graph, create_graph, inputs)\u001b[0m\n\u001b[1;32m    571\u001b[0m \u001b[38;5;28;01mif\u001b[39;00m has_torch_function_unary(\u001b[38;5;28mself\u001b[39m):\n\u001b[1;32m    572\u001b[0m     \u001b[38;5;28;01mreturn\u001b[39;00m handle_torch_function(\n\u001b[1;32m    573\u001b[0m         Tensor\u001b[38;5;241m.\u001b[39mbackward,\n\u001b[1;32m    574\u001b[0m         (\u001b[38;5;28mself\u001b[39m,),\n\u001b[0;32m   (...)\u001b[0m\n\u001b[1;32m    579\u001b[0m         inputs\u001b[38;5;241m=\u001b[39minputs,\n\u001b[1;32m    580\u001b[0m     )\n\u001b[0;32m--> 581\u001b[0m \u001b[43mtorch\u001b[49m\u001b[38;5;241;43m.\u001b[39;49m\u001b[43mautograd\u001b[49m\u001b[38;5;241;43m.\u001b[39;49m\u001b[43mbackward\u001b[49m\u001b[43m(\u001b[49m\n\u001b[1;32m    582\u001b[0m \u001b[43m    \u001b[49m\u001b[38;5;28;43mself\u001b[39;49m\u001b[43m,\u001b[49m\u001b[43m \u001b[49m\u001b[43mgradient\u001b[49m\u001b[43m,\u001b[49m\u001b[43m \u001b[49m\u001b[43mretain_graph\u001b[49m\u001b[43m,\u001b[49m\u001b[43m \u001b[49m\u001b[43mcreate_graph\u001b[49m\u001b[43m,\u001b[49m\u001b[43m \u001b[49m\u001b[43minputs\u001b[49m\u001b[38;5;241;43m=\u001b[39;49m\u001b[43minputs\u001b[49m\n\u001b[1;32m    583\u001b[0m \u001b[43m\u001b[49m\u001b[43m)\u001b[49m\n",
      "File \u001b[0;32m~/miniconda3/envs/sc_env/lib/python3.12/site-packages/torch/autograd/__init__.py:347\u001b[0m, in \u001b[0;36mbackward\u001b[0;34m(tensors, grad_tensors, retain_graph, create_graph, grad_variables, inputs)\u001b[0m\n\u001b[1;32m    342\u001b[0m     retain_graph \u001b[38;5;241m=\u001b[39m create_graph\n\u001b[1;32m    344\u001b[0m \u001b[38;5;66;03m# The reason we repeat the same comment below is that\u001b[39;00m\n\u001b[1;32m    345\u001b[0m \u001b[38;5;66;03m# some Python versions print out the first line of a multi-line function\u001b[39;00m\n\u001b[1;32m    346\u001b[0m \u001b[38;5;66;03m# calls in the traceback and some print out the last line\u001b[39;00m\n\u001b[0;32m--> 347\u001b[0m \u001b[43m_engine_run_backward\u001b[49m\u001b[43m(\u001b[49m\n\u001b[1;32m    348\u001b[0m \u001b[43m    \u001b[49m\u001b[43mtensors\u001b[49m\u001b[43m,\u001b[49m\n\u001b[1;32m    349\u001b[0m \u001b[43m    \u001b[49m\u001b[43mgrad_tensors_\u001b[49m\u001b[43m,\u001b[49m\n\u001b[1;32m    350\u001b[0m \u001b[43m    \u001b[49m\u001b[43mretain_graph\u001b[49m\u001b[43m,\u001b[49m\n\u001b[1;32m    351\u001b[0m \u001b[43m    \u001b[49m\u001b[43mcreate_graph\u001b[49m\u001b[43m,\u001b[49m\n\u001b[1;32m    352\u001b[0m \u001b[43m    \u001b[49m\u001b[43minputs\u001b[49m\u001b[43m,\u001b[49m\n\u001b[1;32m    353\u001b[0m \u001b[43m    \u001b[49m\u001b[43mallow_unreachable\u001b[49m\u001b[38;5;241;43m=\u001b[39;49m\u001b[38;5;28;43;01mTrue\u001b[39;49;00m\u001b[43m,\u001b[49m\n\u001b[1;32m    354\u001b[0m \u001b[43m    \u001b[49m\u001b[43maccumulate_grad\u001b[49m\u001b[38;5;241;43m=\u001b[39;49m\u001b[38;5;28;43;01mTrue\u001b[39;49;00m\u001b[43m,\u001b[49m\n\u001b[1;32m    355\u001b[0m \u001b[43m\u001b[49m\u001b[43m)\u001b[49m\n",
      "File \u001b[0;32m~/miniconda3/envs/sc_env/lib/python3.12/site-packages/torch/autograd/graph.py:825\u001b[0m, in \u001b[0;36m_engine_run_backward\u001b[0;34m(t_outputs, *args, **kwargs)\u001b[0m\n\u001b[1;32m    823\u001b[0m     unregister_hooks \u001b[38;5;241m=\u001b[39m _register_logging_hooks_on_whole_graph(t_outputs)\n\u001b[1;32m    824\u001b[0m \u001b[38;5;28;01mtry\u001b[39;00m:\n\u001b[0;32m--> 825\u001b[0m     \u001b[38;5;28;01mreturn\u001b[39;00m \u001b[43mVariable\u001b[49m\u001b[38;5;241;43m.\u001b[39;49m\u001b[43m_execution_engine\u001b[49m\u001b[38;5;241;43m.\u001b[39;49m\u001b[43mrun_backward\u001b[49m\u001b[43m(\u001b[49m\u001b[43m  \u001b[49m\u001b[38;5;66;43;03m# Calls into the C++ engine to run the backward pass\u001b[39;49;00m\n\u001b[1;32m    826\u001b[0m \u001b[43m        \u001b[49m\u001b[43mt_outputs\u001b[49m\u001b[43m,\u001b[49m\u001b[43m \u001b[49m\u001b[38;5;241;43m*\u001b[39;49m\u001b[43margs\u001b[49m\u001b[43m,\u001b[49m\u001b[43m \u001b[49m\u001b[38;5;241;43m*\u001b[39;49m\u001b[38;5;241;43m*\u001b[39;49m\u001b[43mkwargs\u001b[49m\n\u001b[1;32m    827\u001b[0m \u001b[43m    \u001b[49m\u001b[43m)\u001b[49m  \u001b[38;5;66;03m# Calls into the C++ engine to run the backward pass\u001b[39;00m\n\u001b[1;32m    828\u001b[0m \u001b[38;5;28;01mfinally\u001b[39;00m:\n\u001b[1;32m    829\u001b[0m     \u001b[38;5;28;01mif\u001b[39;00m attach_logging_hooks:\n",
      "\u001b[0;31mKeyboardInterrupt\u001b[0m: "
     ]
    }
   ],
   "source": [
    "# Training arguments\n",
    "training_args = TrainingArguments(\n",
    "    output_dir=\"./results\",\n",
    "    evaluation_strategy=\"epoch\",\n",
    "    learning_rate=1e-5,\n",
    "    per_device_train_batch_size=16,\n",
    "    num_train_epochs=3,\n",
    "    weight_decay=0.01,\n",
    "    logging_dir=\"./logs\",\n",
    "    logging_steps=10,\n",
    "    save_total_limit=2,\n",
    ")\n",
    "\n",
    "# Define metrics\n",
    "metric = evaluate.load('accuracy')\n",
    "\n",
    "def compute_metrics(eval_pred):\n",
    "    logits, labels = eval_pred\n",
    "    predictions = np.argmax(logits, axis=-1)\n",
    "    return metric.compute(predictions=predictions, references=labels)\n",
    "\n",
    "# Trainer\n",
    "trainer = Trainer(\n",
    "    model=model,\n",
    "    args=training_args,\n",
    "    train_dataset=tokenized_dataset.train_test_split(test_size=0.1)[\"train\"],\n",
    "    eval_dataset=tokenized_dataset.train_test_split(test_size=0.1)[\"test\"],\n",
    "    tokenizer=tokenizer,\n",
    "    compute_metrics=compute_metrics,\n",
    ")\n",
    "\n",
    "# Fine-tune the model\n",
    "trainer.train()"
   ]
  },
  {
   "cell_type": "code",
   "execution_count": null,
   "metadata": {},
   "outputs": [],
   "source": []
  },
  {
   "cell_type": "code",
   "execution_count": null,
   "metadata": {},
   "outputs": [],
   "source": []
  }
 ],
 "metadata": {
  "kernelspec": {
   "display_name": "sc_env",
   "language": "python",
   "name": "python3"
  },
  "language_info": {
   "codemirror_mode": {
    "name": "ipython",
    "version": 3
   },
   "file_extension": ".py",
   "mimetype": "text/x-python",
   "name": "python",
   "nbconvert_exporter": "python",
   "pygments_lexer": "ipython3",
   "version": "3.12.8"
  }
 },
 "nbformat": 4,
 "nbformat_minor": 2
}
