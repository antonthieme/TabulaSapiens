{
 "cells": [
  {
   "cell_type": "code",
   "execution_count": 1,
   "id": "285e859c-c9b6-47d3-844a-d38c9dc0e87d",
   "metadata": {},
   "outputs": [],
   "source": [
    "import numpy as np\n",
    "import pandas as pd\n",
    "import matplotlib.pyplot as plt\n",
    "import csv\n",
    "import seaborn as sns\n",
    "import anndata\n",
    "import string\n",
    "import gc\n",
    "from anndata import read_h5ad\n",
    "from anndata import read_csv\n",
    "from pandas import DataFrame\n",
    "import h5py\n",
    "import os"
   ]
  },
  {
   "cell_type": "code",
   "execution_count": 2,
   "id": "4379f578-0974-4a8d-b749-6a75cdeae61b",
   "metadata": {},
   "outputs": [],
   "source": [
    "# PATHS\n",
    "SC_TRANSCRIPTOMICS_DIR = \"singlecell_transcriptomics/TSP1_30_Paper2_Version2d_Oct2024/full_object\"\n",
    "METADATA = 'TSP1_30_metadata_min200_2500_decontx_scvi_donorassay_version2d_20241112.csv'\n",
    "FULLDATA = 'TSP1_30_min200_2500_decontx_scvi_donorassay_version2d_20241126.h5ad'\n",
    "DATA_DIR = os.path.join(os.getcwd(), '..', 'data/shared', SC_TRANSCRIPTOMICS_DIR)\n",
    "\n",
    "# BOOLEANS\n",
    "TenXOnly = True   # don't use plate data"
   ]
  },
  {
   "cell_type": "markdown",
   "id": "b55fca98-ac98-4b71-bbac-0c6841b2c6c6",
   "metadata": {},
   "source": [
    "## LOAD DATA"
   ]
  },
  {
   "cell_type": "code",
   "execution_count": 3,
   "id": "3dbeb215-ccf7-4ef5-8c02-8d28af07ebd7",
   "metadata": {},
   "outputs": [
    {
     "data": {
      "text/plain": [
       "AnnData object with n_obs × n_vars = 1136218 × 61806\n",
       "    obs: 'donor', 'tissue', 'anatomical_position', 'method', 'cdna_plate', 'library_plate', 'notes', 'cdna_well', 'old_index', 'assay', 'sample_id', 'replicate', '10X_run', '10X_barcode', 'ambient_removal', 'donor_method', 'donor_assay', 'donor_tissue', 'donor_tissue_assay', 'cell_ontology_class', 'cell_ontology_id', 'compartment', 'broad_cell_class', 'free_annotation', 'manually_annotated', 'published_2022', 'n_genes_by_counts', 'total_counts', 'total_counts_mt', 'pct_counts_mt', 'total_counts_ercc', 'pct_counts_ercc', '_scvi_batch', '_scvi_labels', 'scvi_leiden_donorassay_full', 'age', 'sex', 'ethnicity', 'sample_number'\n",
       "    var: 'ensembl_id', 'gene_symbol', 'genome', 'mt', 'ercc', 'n_cells_by_counts', 'mean_counts', 'pct_dropout_by_counts', 'total_counts', 'mean', 'std'\n",
       "    uns: '_scvi_manager_uuid', '_scvi_uuid', '_training_mode', 'age_colors', 'assay_colors', 'compartment_colors', 'donor_colors', 'leiden', 'log1p', 'method_colors', 'neighbors', 'pca', 'sex_colors', 'tissue_colors', 'umap'\n",
       "    obsm: 'X_pca', 'X_scvi', 'X_umap', 'X_umap_scvi_full_donorassay', 'X_uncorrected_alltissues_umap', 'X_uncorrected_umap'\n",
       "    varm: 'PCs'\n",
       "    layers: 'decontXcounts', 'log_normalized', 'raw_counts', 'scale_data'\n",
       "    obsp: 'connectivities', 'distances'"
      ]
     },
     "execution_count": 3,
     "metadata": {},
     "output_type": "execute_result"
    }
   ],
   "source": [
    "adata = read_h5ad(os.path.join(DATA_DIR, FULLDATA))\n",
    "adata"
   ]
  },
  {
   "cell_type": "code",
   "execution_count": 4,
   "id": "1c07d1df-e6c3-4cde-950e-c3aa097e53b8",
   "metadata": {},
   "outputs": [
    {
     "data": {
      "text/plain": [
       "<1093048x61806 sparse matrix of type '<class 'numpy.int32'>'\n",
       "\twith 3542059822 stored elements in Compressed Sparse Row format>"
      ]
     },
     "execution_count": 4,
     "metadata": {},
     "output_type": "execute_result"
    }
   ],
   "source": [
    "if TenXOnly:\n",
    "    adata = adata[adata.obs.method == '10X']\n",
    "\n",
    "adata.layers['raw_counts']"
   ]
  },
  {
   "cell_type": "code",
   "execution_count": 5,
   "id": "ddefda82-9202-4b90-afea-3e5b6fec2b78",
   "metadata": {},
   "outputs": [],
   "source": [
    "def mapTFsbyEnsemblIDlist(TF_data):\n",
    "    \n",
    "    adata_table = pd.DataFrame()\n",
    "    adata_table['ensembl_id'] = adata.var.ensembl_id.str.split('.', expand=True)[0]\n",
    "    adata_table['gene_symbol'] = adata.var.gene_symbol\n",
    "    \n",
    "    # slice to just TF's\n",
    "    TF_adata_table = adata_table[adata_table.ensembl_id.isin(TF_data.TF_names)]\n",
    "    TF_adata_table.reset_index()\n",
    "    TF_adata_table.sort_values('ensembl_id')\n",
    "    \n",
    "    return(TF_adata_table)"
   ]
  },
  {
   "cell_type": "code",
   "execution_count": 6,
   "id": "31776cf6-6928-4cc1-a7e4-0b8b2443ac6e",
   "metadata": {},
   "outputs": [
    {
     "data": {
      "text/html": [
       "<div>\n",
       "<style scoped>\n",
       "    .dataframe tbody tr th:only-of-type {\n",
       "        vertical-align: middle;\n",
       "    }\n",
       "\n",
       "    .dataframe tbody tr th {\n",
       "        vertical-align: top;\n",
       "    }\n",
       "\n",
       "    .dataframe thead th {\n",
       "        text-align: right;\n",
       "    }\n",
       "</style>\n",
       "<table border=\"1\" class=\"dataframe\">\n",
       "  <thead>\n",
       "    <tr style=\"text-align: right;\">\n",
       "      <th></th>\n",
       "      <th>ensembl_id</th>\n",
       "      <th>gene_symbol</th>\n",
       "    </tr>\n",
       "    <tr>\n",
       "      <th>index</th>\n",
       "      <th></th>\n",
       "      <th></th>\n",
       "    </tr>\n",
       "  </thead>\n",
       "  <tbody>\n",
       "    <tr>\n",
       "      <th>NFYA</th>\n",
       "      <td>ENSG00000001167</td>\n",
       "      <td>NFYA</td>\n",
       "    </tr>\n",
       "    <tr>\n",
       "      <th>ARX</th>\n",
       "      <td>ENSG00000004848</td>\n",
       "      <td>ARX</td>\n",
       "    </tr>\n",
       "    <tr>\n",
       "      <th>HOXA11</th>\n",
       "      <td>ENSG00000005073</td>\n",
       "      <td>HOXA11</td>\n",
       "    </tr>\n",
       "    <tr>\n",
       "      <th>MEOX1</th>\n",
       "      <td>ENSG00000005102</td>\n",
       "      <td>MEOX1</td>\n",
       "    </tr>\n",
       "    <tr>\n",
       "      <th>SOX8</th>\n",
       "      <td>ENSG00000005513</td>\n",
       "      <td>SOX8</td>\n",
       "    </tr>\n",
       "    <tr>\n",
       "      <th>...</th>\n",
       "      <td>...</td>\n",
       "      <td>...</td>\n",
       "    </tr>\n",
       "    <tr>\n",
       "      <th>PCGF2</th>\n",
       "      <td>ENSG00000277258</td>\n",
       "      <td>PCGF2</td>\n",
       "    </tr>\n",
       "    <tr>\n",
       "      <th>ZNF670</th>\n",
       "      <td>ENSG00000277462</td>\n",
       "      <td>ZNF670</td>\n",
       "    </tr>\n",
       "    <tr>\n",
       "      <th>ZNF8</th>\n",
       "      <td>ENSG00000278129</td>\n",
       "      <td>ZNF8</td>\n",
       "    </tr>\n",
       "    <tr>\n",
       "      <th>ZNF229</th>\n",
       "      <td>ENSG00000278318</td>\n",
       "      <td>ZNF229</td>\n",
       "    </tr>\n",
       "    <tr>\n",
       "      <th>NR2E3</th>\n",
       "      <td>ENSG00000278570</td>\n",
       "      <td>NR2E3</td>\n",
       "    </tr>\n",
       "  </tbody>\n",
       "</table>\n",
       "<p>1637 rows × 2 columns</p>\n",
       "</div>"
      ],
      "text/plain": [
       "             ensembl_id gene_symbol\n",
       "index                              \n",
       "NFYA    ENSG00000001167        NFYA\n",
       "ARX     ENSG00000004848         ARX\n",
       "HOXA11  ENSG00000005073      HOXA11\n",
       "MEOX1   ENSG00000005102       MEOX1\n",
       "SOX8    ENSG00000005513        SOX8\n",
       "...                 ...         ...\n",
       "PCGF2   ENSG00000277258       PCGF2\n",
       "ZNF670  ENSG00000277462      ZNF670\n",
       "ZNF8    ENSG00000278129        ZNF8\n",
       "ZNF229  ENSG00000278318      ZNF229\n",
       "NR2E3   ENSG00000278570       NR2E3\n",
       "\n",
       "[1637 rows x 2 columns]"
      ]
     },
     "execution_count": 6,
     "metadata": {},
     "output_type": "execute_result"
    }
   ],
   "source": [
    "tf_df = pd.read_csv('../data/HumanTranscriptionFactorsEnsembl.csv')\n",
    "tf_df = mapTFsbyEnsemblIDlist(tf_df)\n",
    "tf_df"
   ]
  },
  {
   "cell_type": "code",
   "execution_count": 7,
   "id": "fbe4ba21-4e6d-4ffd-bfaf-104229ec4480",
   "metadata": {},
   "outputs": [],
   "source": [
    "# Extract var['ensembl_id'] as a pandas Series to avoid modifying the AnnData object\n",
    "ensembl_ids_with_version = adata.var['ensembl_id']\n",
    "\n",
    "# Strip version numbers by processing this Series\n",
    "base_ensembl_ids = ensembl_ids_with_version.str.split('.').str[0]\n",
    "\n",
    "# Create a set of reference Ensembl IDs (without versions)\n",
    "ensembl_ids_to_keep = set(tf_df['ensembl_id'])\n",
    "\n",
    "# Generate a boolean mask for the subset\n",
    "mask = base_ensembl_ids.isin(ensembl_ids_to_keep)\n",
    "\n",
    "# Subset the AnnData object without modifying its var structure\n",
    "adata_tf = adata[:, mask].copy()\n",
    "\n",
    "adata_tf.write(\"../data/adata_tf.h5ad\")"
   ]
  },
  {
   "cell_type": "code",
   "execution_count": 8,
   "id": "7fd99f26-73d4-417f-863a-8834982e06a3",
   "metadata": {},
   "outputs": [
    {
     "data": {
      "text/plain": [
       "AnnData object with n_obs × n_vars = 1093048 × 1637\n",
       "    obs: 'donor', 'tissue', 'anatomical_position', 'method', 'cdna_plate', 'library_plate', 'notes', 'cdna_well', 'old_index', 'assay', 'sample_id', 'replicate', '10X_run', '10X_barcode', 'ambient_removal', 'donor_method', 'donor_assay', 'donor_tissue', 'donor_tissue_assay', 'cell_ontology_class', 'cell_ontology_id', 'compartment', 'broad_cell_class', 'free_annotation', 'manually_annotated', 'published_2022', 'n_genes_by_counts', 'total_counts', 'total_counts_mt', 'pct_counts_mt', 'total_counts_ercc', 'pct_counts_ercc', '_scvi_batch', '_scvi_labels', 'scvi_leiden_donorassay_full', 'age', 'sex', 'ethnicity', 'sample_number'\n",
       "    var: 'ensembl_id', 'gene_symbol', 'genome', 'mt', 'ercc', 'n_cells_by_counts', 'mean_counts', 'pct_dropout_by_counts', 'total_counts', 'mean', 'std'\n",
       "    uns: '_scvi_manager_uuid', '_scvi_uuid', '_training_mode', 'age_colors', 'assay_colors', 'compartment_colors', 'donor_colors', 'leiden', 'log1p', 'method_colors', 'neighbors', 'pca', 'sex_colors', 'tissue_colors', 'umap'\n",
       "    obsm: 'X_pca', 'X_scvi', 'X_umap', 'X_umap_scvi_full_donorassay', 'X_uncorrected_alltissues_umap', 'X_uncorrected_umap'\n",
       "    varm: 'PCs'\n",
       "    layers: 'decontXcounts', 'log_normalized', 'raw_counts', 'scale_data'\n",
       "    obsp: 'connectivities', 'distances'"
      ]
     },
     "execution_count": 8,
     "metadata": {},
     "output_type": "execute_result"
    }
   ],
   "source": [
    "adata_tf"
   ]
  },
  {
   "cell_type": "code",
   "execution_count": null,
   "id": "8e3af2b9-636a-48b7-a6e9-8ae3af0994cf",
   "metadata": {},
   "outputs": [],
   "source": []
  }
 ],
 "metadata": {
  "kernelspec": {
   "display_name": "Global single-cell-base",
   "language": "python",
   "name": "global-single-cell-base"
  },
  "language_info": {
   "codemirror_mode": {
    "name": "ipython",
    "version": 3
   },
   "file_extension": ".py",
   "mimetype": "text/x-python",
   "name": "python",
   "nbconvert_exporter": "python",
   "pygments_lexer": "ipython3",
   "version": "3.10.13"
  }
 },
 "nbformat": 4,
 "nbformat_minor": 5
}
